{
 "cells": [
  {
   "cell_type": "code",
   "execution_count": null,
   "metadata": {},
   "outputs": [],
   "source": [
    "import glob\n",
    "import time\n",
    "import re"
   ]
  },
  {
   "cell_type": "code",
   "execution_count": null,
   "metadata": {},
   "outputs": [],
   "source": [
    "# Scrape each gpx file s"
   ]
  },
  {
   "cell_type": "code",
   "execution_count": null,
   "metadata": {},
   "outputs": [],
   "source": [
    "path = \"gpx_files/*.gpx\"\n",
    "trail_info_list = []\n",
    "for fname in glob.glob(path):\n",
    "    gpx = etree.parse(fname)\n",
    "    ele = gpx.findall(\"{http://www.topografix.com/GPX/1/1}trk\")\n",
    "    gpx.xpath(\"//gpx:ele\", namespaces = {'gpx': \"http://www.topografix.com/GPX/1/1\"})\n",
    "\n",
    "    name = [x.find(\"{http://www.topografix.com/GPX/1/1}name\") for x in ele][0]\n",
    "    ele = [x.findall(\"{http://www.topografix.com/GPX/1/1}trkseg\") for x in ele][0]\n",
    "    trail_id = re.sub('\\D', '', fname)\n",
    "    for row in ele:\n",
    "        #trail_name = name.text\n",
    "        trail_name = (name.text)\n",
    "        lat = trkpt['lat']\n",
    "        lon = trkpt['lat']\n",
    "        trail_info_list.append([trail_id, trail_name, lat, lon])\n",
    "        \n"
   ]
  },
  {
   "cell_type": "code",
   "execution_count": null,
   "metadata": {},
   "outputs": [],
   "source": [
    "# Create CSV"
   ]
  },
  {
   "cell_type": "code",
   "execution_count": null,
   "metadata": {},
   "outputs": [],
   "source": [
    "df = pd.DataFrame(trail_info_list)\n",
    "# name the columns\n",
    "df.columns=['trail_id', 'name', 'lat', 'lon']\n",
    "# convert to csv\n",
    "df.to_csv('trail_list.csv', index=False)\n",
    "read= pd.read_csv('trail_list.csv')\n",
    "read"
   ]
  }
 ],
 "metadata": {
  "kernelspec": {
   "display_name": "DS_toolkit",
   "language": "python",
   "name": "ds_toolkit"
  },
  "language_info": {
   "codemirror_mode": {
    "name": "ipython",
    "version": 3
   },
   "file_extension": ".py",
   "mimetype": "text/x-python",
   "name": "python",
   "nbconvert_exporter": "python",
   "pygments_lexer": "ipython3",
   "version": "3.8.5"
  }
 },
 "nbformat": 4,
 "nbformat_minor": 4
}
