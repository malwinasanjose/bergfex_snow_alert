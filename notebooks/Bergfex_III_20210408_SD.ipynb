{
 "cells": [
  {
   "cell_type": "markdown",
   "metadata": {},
   "source": [
    "## Bergfex Webscraping\n",
    "<b> Milestone 3</b> \n",
    "\n",
    "In this part our aim is to find the nearest known snow level for our activities and to create a \"snow alert\" if necessary. Therefore, we use the files from Milestones 1 & 2 and compare the GPS coordinates. \n",
    "We then classify based on two conditions if a snow alert exists and add the 'snow status' to each activity."
   ]
  },
  {
   "cell_type": "markdown",
   "metadata": {},
   "source": [
    "### Installations"
   ]
  },
  {
   "cell_type": "code",
   "execution_count": 1,
   "metadata": {},
   "outputs": [],
   "source": [
    "# unhash and run the below line once\n",
    "#conda install -c conda-forge shapely\n",
    "#conda install -c conda-forge geopy\n",
    "# or \n",
    "#!pip install geopy"
   ]
  },
  {
   "cell_type": "markdown",
   "metadata": {},
   "source": [
    "### Imports"
   ]
  },
  {
   "cell_type": "code",
   "execution_count": 2,
   "metadata": {},
   "outputs": [],
   "source": [
    "import pandas as pd\n",
    "import numpy as np\n",
    "\n",
    "import shapely\n",
    "from shapely.geometry import Point, MultiPoint\n",
    "from shapely.ops import nearest_points\n",
    "import geopy.distance\n",
    "\n",
    "import matplotlib\n",
    "import matplotlib.pyplot as plt\n",
    "import matplotlib\n",
    "import matplotlib.pyplot as plt"
   ]
  },
  {
   "cell_type": "markdown",
   "metadata": {},
   "source": [
    "# To Do"
   ]
  },
  {
   "cell_type": "markdown",
   "metadata": {},
   "source": [
    "still to do:\n",
    "- SD: check the creation of snow_coordinates in notebook 2\n",
    "- what is SLF data?\n",
    "- check if better data resolution for swiss_cities, if not add city_coordinates to data: makes the \"check for yourself\" useful\n",
    "- add testing notebook for NB III to github? or add section to 'proof' it's working in final NB III\n",
    "- the trail index has been changed to ID\n",
    "- add the link to next git hub project"
   ]
  },
  {
   "cell_type": "markdown",
   "metadata": {},
   "source": [
    "# 1 Importing existing files\n",
    "First of all, we import the previously created files that contain all the scraped activities and the scraped snow level information."
   ]
  },
  {
   "cell_type": "code",
   "execution_count": 5,
   "metadata": {},
   "outputs": [
    {
     "data": {
      "text/html": [
       "<div>\n",
       "<style scoped>\n",
       "    .dataframe tbody tr th:only-of-type {\n",
       "        vertical-align: middle;\n",
       "    }\n",
       "\n",
       "    .dataframe tbody tr th {\n",
       "        vertical-align: top;\n",
       "    }\n",
       "\n",
       "    .dataframe thead th {\n",
       "        text-align: right;\n",
       "    }\n",
       "</style>\n",
       "<table border=\"1\" class=\"dataframe\">\n",
       "  <thead>\n",
       "    <tr style=\"text-align: right;\">\n",
       "      <th></th>\n",
       "      <th>snow_obs_location</th>\n",
       "      <th>snow_obs_alt</th>\n",
       "      <th>snowlevel_in_cm</th>\n",
       "      <th>snow_obs_lat</th>\n",
       "      <th>snow_obs_lng</th>\n",
       "    </tr>\n",
       "  </thead>\n",
       "  <tbody>\n",
       "    <tr>\n",
       "      <th>2</th>\n",
       "      <td>Aigle</td>\n",
       "      <td>381</td>\n",
       "      <td>0</td>\n",
       "      <td>46.319025</td>\n",
       "      <td>6.970566</td>\n",
       "    </tr>\n",
       "    <tr>\n",
       "      <th>3</th>\n",
       "      <td>Altdorf</td>\n",
       "      <td>449</td>\n",
       "      <td>0</td>\n",
       "      <td>46.880600</td>\n",
       "      <td>8.639400</td>\n",
       "    </tr>\n",
       "    <tr>\n",
       "      <th>4</th>\n",
       "      <td>Andermatt</td>\n",
       "      <td>2282</td>\n",
       "      <td>0</td>\n",
       "      <td>46.602389</td>\n",
       "      <td>8.611800</td>\n",
       "    </tr>\n",
       "    <tr>\n",
       "      <th>5</th>\n",
       "      <td>Appenzell</td>\n",
       "      <td>780</td>\n",
       "      <td>0</td>\n",
       "      <td>47.333300</td>\n",
       "      <td>9.416700</td>\n",
       "    </tr>\n",
       "    <tr>\n",
       "      <th>6</th>\n",
       "      <td>Beatenberg</td>\n",
       "      <td>1182</td>\n",
       "      <td>0</td>\n",
       "      <td>46.703541</td>\n",
       "      <td>7.809551</td>\n",
       "    </tr>\n",
       "  </tbody>\n",
       "</table>\n",
       "</div>"
      ],
      "text/plain": [
       "  snow_obs_location  snow_obs_alt  snowlevel_in_cm  snow_obs_lat  snow_obs_lng\n",
       "2             Aigle           381                0     46.319025      6.970566\n",
       "3           Altdorf           449                0     46.880600      8.639400\n",
       "4         Andermatt          2282                0     46.602389      8.611800\n",
       "5         Appenzell           780                0     47.333300      9.416700\n",
       "6        Beatenberg          1182                0     46.703541      7.809551"
      ]
     },
     "execution_count": 5,
     "metadata": {},
     "output_type": "execute_result"
    }
   ],
   "source": [
    "# change the file_path to your path if necessary\n",
    "filepath = '../data/'\n",
    "\n",
    "# importing activity data\n",
    "activities = pd.read_csv(filepath + 'activities_all_gpx.csv')\n",
    "\n",
    "# importing snow level data merged with cities coordinates\n",
    "snow = pd.read_csv(filepath + 'snow_coordinates.csv', sep=';', decimal=',')\n",
    "snow = snow.dropna() ############ check?\n",
    "# EPSG:4326/WGS84 ############ check?\n",
    "\n",
    "# renaming the snow columns for later merging with the coordinates of the activity_df\n",
    "snow = snow.rename(columns = {'lat':'snow_obs_lat', 'lng':'snow_obs_lng'})\n",
    "snow = snow.rename(columns = {'location':'snow_obs_location', 'height_in_m':'snow_obs_alt'})\n",
    "snow.head()"
   ]
  },
  {
   "cell_type": "code",
   "execution_count": 6,
   "metadata": {},
   "outputs": [
    {
     "name": "stdout",
     "output_type": "stream",
     "text": [
      "<class 'pandas.core.frame.DataFrame'>\n",
      "Int64Index: 48 entries, 2 to 76\n",
      "Data columns (total 5 columns):\n",
      " #   Column             Non-Null Count  Dtype  \n",
      "---  ------             --------------  -----  \n",
      " 0   snow_obs_location  48 non-null     object \n",
      " 1   snow_obs_alt       48 non-null     int64  \n",
      " 2   snowlevel_in_cm    48 non-null     int64  \n",
      " 3   snow_obs_lat       48 non-null     float64\n",
      " 4   snow_obs_lng       48 non-null     float64\n",
      "dtypes: float64(2), int64(2), object(1)\n",
      "memory usage: 2.2+ KB\n"
     ]
    }
   ],
   "source": [
    "snow.info()"
   ]
  },
  {
   "cell_type": "code",
   "execution_count": 22,
   "metadata": {},
   "outputs": [
    {
     "data": {
      "text/plain": [
       "((542, 18),\n",
       "        ID                                        title  difficulty    sport  \\\n",
       " 0  129549                                  Bornkänzeli  2 - medium   Hiking   \n",
       " 1  120900  Habsburger Weg 4. Etappe: Baden - Mellingen  2 - medium   Hiking   \n",
       " 2  129607                                     Aarelauf  2 - medium   Hiking   \n",
       " 3  280170                          Veloroute Limmattal  2 - medium  Cycling   \n",
       " 4  129555                              Mättenwilerkehr    1 - easy   Hiking   \n",
       " \n",
       "    length   time  climb  min    max  technique  fitness  region  trail_id  \\\n",
       " 0   10.30  03:00    318  392  665.0          2        3  aargau    129549   \n",
       " 1    8.41  02:14    107  349  489.0          1        3  aargau    120900   \n",
       " 2   11.34  02:30     75  391  428.0          2        3  aargau    129607   \n",
       " 3   46.27  03:22    327  348  554.0          2        4  aargau    280170   \n",
       " 4    9.27  02:15    182  427  544.0          1        2  aargau    129555   \n",
       " \n",
       "                                           name        lat       lon  \\\n",
       " 0                                  Bornkänzeli  47.320610  7.907470   \n",
       " 1  Habsburger Weg 4. Etappe: Baden - Mellingen  47.471603  8.306005   \n",
       " 2                                     Aarelauf  47.320610  7.907470   \n",
       " 3                          Veloroute Limmattal  47.350552  8.343384   \n",
       " 4                              Mättenwilerkehr  47.275753  7.901228   \n",
       " \n",
       "    snow_obs_lat  snow_obs_lng  \n",
       " 0     47.537870      7.570988  \n",
       " 1     47.378600      8.540000  \n",
       " 2     47.537870      7.570988  \n",
       " 3     47.378600      8.540000  \n",
       " 4     46.890466      7.821042  )"
      ]
     },
     "execution_count": 22,
     "metadata": {},
     "output_type": "execute_result"
    }
   ],
   "source": [
    "activities.shape, activities.head()"
   ]
  },
  {
   "cell_type": "markdown",
   "metadata": {},
   "source": [
    "# 2 Compare hike location and snow level location\n",
    "Now, we want to calculate the closest point in that df to another gps point"
   ]
  },
  {
   "cell_type": "code",
   "execution_count": 8,
   "metadata": {},
   "outputs": [],
   "source": [
    "# 1st step: making Points out of the snow location #### correct?\n",
    "# 2nd step: making a single multipoint object (grid) out of all the snow_points \n",
    "\n",
    "snow_point_list= [] # list that contains all the snow points in Point object format\n",
    "\n",
    "# Iterating through all snow locations and creating a point made of lat & lon\n",
    "for index, row in snow.iterrows():\n",
    "    point = Point(row['snow_obs_lat'], row['snow_obs_lng'])\n",
    "    snow_point_list.append(point)\n",
    "    \n",
    "len(snow_point_list) # 48 locations #### update # of loc?\n",
    "\n",
    "# Creating a MultiPoint / Grid\n",
    "snow_grid = MultiPoint(snow_point_list)"
   ]
  },
  {
   "cell_type": "code",
   "execution_count": 16,
   "metadata": {},
   "outputs": [
    {
     "data": {
      "text/plain": [
       "(48,\n",
       " [<shapely.geometry.point.Point at 0x7fc8691cd940>,\n",
       "  <shapely.geometry.point.Point at 0x7fc8691cd7f0>,\n",
       "  <shapely.geometry.point.Point at 0x7fc8691cd970>,\n",
       "  <shapely.geometry.point.Point at 0x7fc8691cd9d0>,\n",
       "  <shapely.geometry.point.Point at 0x7fc8691cda30>])"
      ]
     },
     "execution_count": 16,
     "metadata": {},
     "output_type": "execute_result"
    }
   ],
   "source": [
    "len(snow_point_list), snow_point_list[:5]"
   ]
  },
  {
   "cell_type": "code",
   "execution_count": 14,
   "metadata": {},
   "outputs": [
    {
     "data": {
      "image/svg+xml": [
       "<svg xmlns=\"http://www.w3.org/2000/svg\" xmlns:xlink=\"http://www.w3.org/1999/xlink\" width=\"100.0\" height=\"100.0\" viewBox=\"45.815129232 5.931653572000001 1.890666796000005 4.534010855999999\" preserveAspectRatio=\"xMinYMin meet\"><g transform=\"matrix(1,0,0,-1,0,16.397318000000002)\"><g><circle cx=\"46.3190253\" cy=\"6.970566000000001\" r=\"0.13602032568\" stroke=\"#555555\" stroke-width=\"0.045340108559999995\" fill=\"#66cc99\" opacity=\"0.6\" /><circle cx=\"46.8806\" cy=\"8.6394\" r=\"0.13602032568\" stroke=\"#555555\" stroke-width=\"0.045340108559999995\" fill=\"#66cc99\" opacity=\"0.6\" /><circle cx=\"46.60238889\" cy=\"8.6118\" r=\"0.13602032568\" stroke=\"#555555\" stroke-width=\"0.045340108559999995\" fill=\"#66cc99\" opacity=\"0.6\" /><circle cx=\"47.3333\" cy=\"9.4167\" r=\"0.13602032568\" stroke=\"#555555\" stroke-width=\"0.045340108559999995\" fill=\"#66cc99\" opacity=\"0.6\" /><circle cx=\"46.7035407\" cy=\"7.8095511\" r=\"0.13602032568\" stroke=\"#555555\" stroke-width=\"0.045340108559999995\" fill=\"#66cc99\" opacity=\"0.6\" /><circle cx=\"47.5378697\" cy=\"7.570987799999999\" r=\"0.13602032568\" stroke=\"#555555\" stroke-width=\"0.045340108559999995\" fill=\"#66cc99\" opacity=\"0.6\" /><circle cx=\"46.4677669\" cy=\"9.6504508\" r=\"0.13602032568\" stroke=\"#555555\" stroke-width=\"0.045340108559999995\" fill=\"#66cc99\" opacity=\"0.6\" /><circle cx=\"46.4201048\" cy=\"7.82\" r=\"0.13602032568\" stroke=\"#555555\" stroke-width=\"0.045340108559999995\" fill=\"#66cc99\" opacity=\"0.6\" /><circle cx=\"46.316402200000006\" cy=\"8.4926528\" r=\"0.13602032568\" stroke=\"#555555\" stroke-width=\"0.045340108559999995\" fill=\"#66cc99\" opacity=\"0.6\" /><circle cx=\"47.165540299999996\" cy=\"9.4708594\" r=\"0.13602032568\" stroke=\"#555555\" stroke-width=\"0.045340108559999995\" fill=\"#66cc99\" opacity=\"0.6\" /><circle cx=\"46.8307957\" cy=\"6.5543666\" r=\"0.13602032568\" stroke=\"#555555\" stroke-width=\"0.045340108559999995\" fill=\"#66cc99\" opacity=\"0.6\" /><circle cx=\"47.032597700000004\" cy=\"6.964280499999999\" r=\"0.13602032568\" stroke=\"#555555\" stroke-width=\"0.045340108559999995\" fill=\"#66cc99\" opacity=\"0.6\" /><circle cx=\"46.4724722\" cy=\"7.5463989\" r=\"0.13602032568\" stroke=\"#555555\" stroke-width=\"0.045340108559999995\" fill=\"#66cc99\" opacity=\"0.6\" /><circle cx=\"46.8521\" cy=\"9.5297\" r=\"0.13602032568\" stroke=\"#555555\" stroke-width=\"0.045340108559999995\" fill=\"#66cc99\" opacity=\"0.6\" /><circle cx=\"46.507556\" cy=\"9.818999999999999\" r=\"0.13602032568\" stroke=\"#555555\" stroke-width=\"0.045340108559999995\" fill=\"#66cc99\" opacity=\"0.6\" /><circle cx=\"46.3118579\" cy=\"7.4823527\" r=\"0.13602032568\" stroke=\"#555555\" stroke-width=\"0.045340108559999995\" fill=\"#66cc99\" opacity=\"0.6\" /><circle cx=\"46.8091\" cy=\"9.8398\" r=\"0.13602032568\" stroke=\"#555555\" stroke-width=\"0.045340108559999995\" fill=\"#66cc99\" opacity=\"0.6\" /><circle cx=\"46.7051127\" cy=\"8.8523754\" r=\"0.13602032568\" stroke=\"#555555\" stroke-width=\"0.045340108559999995\" fill=\"#66cc99\" opacity=\"0.6\" /><circle cx=\"46.53520220000001\" cy=\"6.5418995\" r=\"0.13602032568\" stroke=\"#555555\" stroke-width=\"0.045340108559999995\" fill=\"#66cc99\" opacity=\"0.6\" /><circle cx=\"46.92961111\" cy=\"9.141\" r=\"0.13602032568\" stroke=\"#555555\" stroke-width=\"0.045340108559999995\" fill=\"#66cc99\" opacity=\"0.6\" /><circle cx=\"46.79091667\" cy=\"8.3877\" r=\"0.13602032568\" stroke=\"#555555\" stroke-width=\"0.045340108559999995\" fill=\"#66cc99\" opacity=\"0.6\" /><circle cx=\"46.2\" cy=\"6.15\" r=\"0.13602032568\" stroke=\"#555555\" stroke-width=\"0.045340108559999995\" fill=\"#66cc99\" opacity=\"0.6\" /><circle cx=\"46.9197334\" cy=\"8.903842\" r=\"0.13602032568\" stroke=\"#555555\" stroke-width=\"0.045340108559999995\" fill=\"#66cc99\" opacity=\"0.6\" /><circle cx=\"46.196585299999995\" cy=\"7.839791099999999\" r=\"0.13602032568\" stroke=\"#555555\" stroke-width=\"0.045340108559999995\" fill=\"#66cc99\" opacity=\"0.6\" /><circle cx=\"46.572520000000004\" cy=\"8.333860000000001\" r=\"0.13602032568\" stroke=\"#555555\" stroke-width=\"0.045340108559999995\" fill=\"#66cc99\" opacity=\"0.6\" /><circle cx=\"47.3709\" cy=\"8.94192\" r=\"0.13602032568\" stroke=\"#555555\" stroke-width=\"0.045340108559999995\" fill=\"#66cc99\" opacity=\"0.6\" /><circle cx=\"46.445555999999996\" cy=\"9.579167\" r=\"0.13602032568\" stroke=\"#555555\" stroke-width=\"0.045340108559999995\" fill=\"#66cc99\" opacity=\"0.6\" /><circle cx=\"47.0856\" cy=\"8.4421\" r=\"0.13602032568\" stroke=\"#555555\" stroke-width=\"0.045340108559999995\" fill=\"#66cc99\" opacity=\"0.6\" /><circle cx=\"47.0996\" cy=\"6.8296\" r=\"0.13602032568\" stroke=\"#555555\" stroke-width=\"0.045340108559999995\" fill=\"#66cc99\" opacity=\"0.6\" /><circle cx=\"46.4254\" cy=\"6.099579900000001\" r=\"0.13602032568\" stroke=\"#555555\" stroke-width=\"0.045340108559999995\" fill=\"#66cc99\" opacity=\"0.6\" /><circle cx=\"46.7425\" cy=\"9.5981\" r=\"0.13602032568\" stroke=\"#555555\" stroke-width=\"0.045340108559999995\" fill=\"#66cc99\" opacity=\"0.6\" /><circle cx=\"46.171747499999995\" cy=\"8.790341900000001\" r=\"0.13602032568\" stroke=\"#555555\" stroke-width=\"0.045340108559999995\" fill=\"#66cc99\" opacity=\"0.6\" /><circle cx=\"46.6558757\" cy=\"7.064416400000001\" r=\"0.13602032568\" stroke=\"#555555\" stroke-width=\"0.045340108559999995\" fill=\"#66cc99\" opacity=\"0.6\" /><circle cx=\"46.7251614\" cy=\"8.1909081\" r=\"0.13602032568\" stroke=\"#555555\" stroke-width=\"0.045340108559999995\" fill=\"#66cc99\" opacity=\"0.6\" /><circle cx=\"46.49299570000001\" cy=\"9.9024964\" r=\"0.13602032568\" stroke=\"#555555\" stroke-width=\"0.045340108559999995\" fill=\"#66cc99\" opacity=\"0.6\" /><circle cx=\"46.1091073\" cy=\"7.9297122\" r=\"0.13602032568\" stroke=\"#555555\" stroke-width=\"0.045340108559999995\" fill=\"#66cc99\" opacity=\"0.6\" /><circle cx=\"46.5339944\" cy=\"9.872933900000001\" r=\"0.13602032568\" stroke=\"#555555\" stroke-width=\"0.045340108559999995\" fill=\"#66cc99\" opacity=\"0.6\" /><circle cx=\"47.249385\" cy=\"9.3432343\" r=\"0.13602032568\" stroke=\"#555555\" stroke-width=\"0.045340108559999995\" fill=\"#66cc99\" opacity=\"0.6\" /><circle cx=\"47.2558\" cy=\"9.30808\" r=\"0.13602032568\" stroke=\"#555555\" stroke-width=\"0.045340108559999995\" fill=\"#66cc99\" opacity=\"0.6\" /><circle cx=\"46.7968716\" cy=\"10.2977381\" r=\"0.13602032568\" stroke=\"#555555\" stroke-width=\"0.045340108559999995\" fill=\"#66cc99\" opacity=\"0.6\" /><circle cx=\"47.4233\" cy=\"9.3772\" r=\"0.13602032568\" stroke=\"#555555\" stroke-width=\"0.045340108559999995\" fill=\"#66cc99\" opacity=\"0.6\" /><circle cx=\"46.890466499999995\" cy=\"7.821042299999999\" r=\"0.13602032568\" stroke=\"#555555\" stroke-width=\"0.045340108559999995\" fill=\"#66cc99\" opacity=\"0.6\" /><circle cx=\"46.5065925\" cy=\"8.3048008\" r=\"0.13602032568\" stroke=\"#555555\" stroke-width=\"0.045340108559999995\" fill=\"#66cc99\" opacity=\"0.6\" /><circle cx=\"46.6178454\" cy=\"9.1804736\" r=\"0.13602032568\" stroke=\"#555555\" stroke-width=\"0.045340108559999995\" fill=\"#66cc99\" opacity=\"0.6\" /><circle cx=\"47.2303\" cy=\"8.6722\" r=\"0.13602032568\" stroke=\"#555555\" stroke-width=\"0.045340108559999995\" fill=\"#66cc99\" opacity=\"0.6\" /><circle cx=\"45.98305556\" cy=\"7.7822\" r=\"0.13602032568\" stroke=\"#555555\" stroke-width=\"0.045340108559999995\" fill=\"#66cc99\" opacity=\"0.6\" /><circle cx=\"46.998256299999994\" cy=\"7.451339900000001\" r=\"0.13602032568\" stroke=\"#555555\" stroke-width=\"0.045340108559999995\" fill=\"#66cc99\" opacity=\"0.6\" /><circle cx=\"47.3786\" cy=\"8.54\" r=\"0.13602032568\" stroke=\"#555555\" stroke-width=\"0.045340108559999995\" fill=\"#66cc99\" opacity=\"0.6\" /></g></g></svg>"
      ],
      "text/plain": [
       "<shapely.geometry.multipoint.MultiPoint at 0x7fc8691cd790>"
      ]
     },
     "execution_count": 14,
     "metadata": {},
     "output_type": "execute_result"
    }
   ],
   "source": [
    "snow_grid"
   ]
  },
  {
   "cell_type": "code",
   "execution_count": 9,
   "metadata": {},
   "outputs": [],
   "source": [
    "nearest_list = [] # list that contains tuples of nearest snow points in Point object format\n",
    "near_lng = []  # contains the longitudes of the nearest snow point extracted from nearest shapely calculation\n",
    "near_lat = []  # contains the latitudes of nearest snow point\n",
    "\n",
    "# Finding which snow point is nearest to the test point \n",
    "for index, row in activities.iterrows():\n",
    "    tested_point = Point(row['lat'], row['lon']) # iterates through each row of 'activities'####????\n",
    "    nearest = nearest_points(tested_point, snow_grid) # records the nearest match\n",
    "    nearest_list.append(nearest[1]) # the second item in the tuple is the nearest point\n",
    "\n",
    "# Saving longitude & latitude of the nearest snow point in lists \n",
    "for i in range(len(nearest_list)):\n",
    "    near_lng.append(nearest_list[i].y) \n",
    "    near_lat.append(nearest_list[i].x)"
   ]
  },
  {
   "cell_type": "code",
   "execution_count": 13,
   "metadata": {},
   "outputs": [
    {
     "data": {
      "text/plain": [
       "(542,\n",
       " [<shapely.geometry.point.Point at 0x7fc86905e9d0>,\n",
       "  <shapely.geometry.point.Point at 0x7fc86905e700>,\n",
       "  <shapely.geometry.point.Point at 0x7fc86918d370>,\n",
       "  <shapely.geometry.point.Point at 0x7fc86918d490>,\n",
       "  <shapely.geometry.point.Point at 0x7fc86918d310>])"
      ]
     },
     "execution_count": 13,
     "metadata": {},
     "output_type": "execute_result"
    }
   ],
   "source": [
    "len(nearest_list), nearest_list[:5]"
   ]
  },
  {
   "cell_type": "code",
   "execution_count": 24,
   "metadata": {},
   "outputs": [
    {
     "data": {
      "text/plain": [
       "(7.570987799999999, 47.5378697)"
      ]
     },
     "execution_count": 24,
     "metadata": {},
     "output_type": "execute_result"
    }
   ],
   "source": [
    "nearest_list[0].y, nearest_list[0].x"
   ]
  },
  {
   "cell_type": "code",
   "execution_count": 18,
   "metadata": {},
   "outputs": [],
   "source": [
    "# Test: dataframe output works for each row of trails\n",
    "# should not return an error\n",
    "assert len(near_lng) == len(activities)"
   ]
  },
  {
   "cell_type": "markdown",
   "metadata": {},
   "source": [
    "Now we need to match those calculated nearest coordinates\n",
    "with the name of the snow_point with same coordinate. \n",
    "We merge the two dataframes on coordinates, with replicating \n",
    "the rows of snow points if necessary."
   ]
  },
  {
   "cell_type": "code",
   "execution_count": 19,
   "metadata": {
    "scrolled": true
   },
   "outputs": [
    {
     "data": {
      "text/html": [
       "<div>\n",
       "<style scoped>\n",
       "    .dataframe tbody tr th:only-of-type {\n",
       "        vertical-align: middle;\n",
       "    }\n",
       "\n",
       "    .dataframe tbody tr th {\n",
       "        vertical-align: top;\n",
       "    }\n",
       "\n",
       "    .dataframe thead th {\n",
       "        text-align: right;\n",
       "    }\n",
       "</style>\n",
       "<table border=\"1\" class=\"dataframe\">\n",
       "  <thead>\n",
       "    <tr style=\"text-align: right;\">\n",
       "      <th></th>\n",
       "      <th>ID</th>\n",
       "      <th>title</th>\n",
       "      <th>difficulty</th>\n",
       "      <th>sport</th>\n",
       "      <th>length</th>\n",
       "      <th>time</th>\n",
       "      <th>climb</th>\n",
       "      <th>min</th>\n",
       "      <th>max</th>\n",
       "      <th>technique</th>\n",
       "      <th>...</th>\n",
       "      <th>region</th>\n",
       "      <th>trail_id</th>\n",
       "      <th>name</th>\n",
       "      <th>lat</th>\n",
       "      <th>lon</th>\n",
       "      <th>snow_obs_lat</th>\n",
       "      <th>snow_obs_lng</th>\n",
       "      <th>snow_obs_location</th>\n",
       "      <th>snow_obs_alt</th>\n",
       "      <th>snowlevel_in_cm</th>\n",
       "    </tr>\n",
       "  </thead>\n",
       "  <tbody>\n",
       "    <tr>\n",
       "      <th>0</th>\n",
       "      <td>129549</td>\n",
       "      <td>Bornkänzeli</td>\n",
       "      <td>2 - medium</td>\n",
       "      <td>Hiking</td>\n",
       "      <td>10.30</td>\n",
       "      <td>03:00</td>\n",
       "      <td>318</td>\n",
       "      <td>392</td>\n",
       "      <td>665.0</td>\n",
       "      <td>2</td>\n",
       "      <td>...</td>\n",
       "      <td>aargau</td>\n",
       "      <td>129549</td>\n",
       "      <td>Bornkänzeli</td>\n",
       "      <td>47.320610</td>\n",
       "      <td>7.907470</td>\n",
       "      <td>47.537870</td>\n",
       "      <td>7.570988</td>\n",
       "      <td>Binningen</td>\n",
       "      <td>316</td>\n",
       "      <td>0</td>\n",
       "    </tr>\n",
       "    <tr>\n",
       "      <th>1</th>\n",
       "      <td>129607</td>\n",
       "      <td>Aarelauf</td>\n",
       "      <td>2 - medium</td>\n",
       "      <td>Hiking</td>\n",
       "      <td>11.34</td>\n",
       "      <td>02:30</td>\n",
       "      <td>75</td>\n",
       "      <td>391</td>\n",
       "      <td>428.0</td>\n",
       "      <td>2</td>\n",
       "      <td>...</td>\n",
       "      <td>aargau</td>\n",
       "      <td>129607</td>\n",
       "      <td>Aarelauf</td>\n",
       "      <td>47.320610</td>\n",
       "      <td>7.907470</td>\n",
       "      <td>47.537870</td>\n",
       "      <td>7.570988</td>\n",
       "      <td>Binningen</td>\n",
       "      <td>316</td>\n",
       "      <td>0</td>\n",
       "    </tr>\n",
       "    <tr>\n",
       "      <th>2</th>\n",
       "      <td>961881</td>\n",
       "      <td>Hüslischnegg am Asperstrihen</td>\n",
       "      <td>2 - medium</td>\n",
       "      <td>Hiking</td>\n",
       "      <td>5.00</td>\n",
       "      <td>01:23</td>\n",
       "      <td>173</td>\n",
       "      <td>670</td>\n",
       "      <td>804.0</td>\n",
       "      <td>3</td>\n",
       "      <td>...</td>\n",
       "      <td>aargau</td>\n",
       "      <td>961881</td>\n",
       "      <td>Hüslischnegg am Asperstrihen</td>\n",
       "      <td>47.436832</td>\n",
       "      <td>8.029861</td>\n",
       "      <td>47.537870</td>\n",
       "      <td>7.570988</td>\n",
       "      <td>Binningen</td>\n",
       "      <td>316</td>\n",
       "      <td>0</td>\n",
       "    </tr>\n",
       "    <tr>\n",
       "      <th>3</th>\n",
       "      <td>129624</td>\n",
       "      <td>Rundwanderung Engelberg</td>\n",
       "      <td>2 - medium</td>\n",
       "      <td>Hiking</td>\n",
       "      <td>11.17</td>\n",
       "      <td>03:30</td>\n",
       "      <td>283</td>\n",
       "      <td>395</td>\n",
       "      <td>702.0</td>\n",
       "      <td>1</td>\n",
       "      <td>...</td>\n",
       "      <td>aargau</td>\n",
       "      <td>129624</td>\n",
       "      <td>Rundwanderung Engelberg</td>\n",
       "      <td>47.320080</td>\n",
       "      <td>7.899660</td>\n",
       "      <td>47.537870</td>\n",
       "      <td>7.570988</td>\n",
       "      <td>Binningen</td>\n",
       "      <td>316</td>\n",
       "      <td>0</td>\n",
       "    </tr>\n",
       "    <tr>\n",
       "      <th>4</th>\n",
       "      <td>897134</td>\n",
       "      <td>PanoramatourAG-Strihen-ZeiherHomberg</td>\n",
       "      <td>1 - easy</td>\n",
       "      <td>Mountainbike</td>\n",
       "      <td>25.29</td>\n",
       "      <td>01:31</td>\n",
       "      <td>756</td>\n",
       "      <td>438</td>\n",
       "      <td>740.0</td>\n",
       "      <td>1</td>\n",
       "      <td>...</td>\n",
       "      <td>aargau</td>\n",
       "      <td>897134</td>\n",
       "      <td>PanoramatourAG-Strihen-ZeiherHomberg</td>\n",
       "      <td>47.462158</td>\n",
       "      <td>7.996060</td>\n",
       "      <td>47.537870</td>\n",
       "      <td>7.570988</td>\n",
       "      <td>Binningen</td>\n",
       "      <td>316</td>\n",
       "      <td>0</td>\n",
       "    </tr>\n",
       "    <tr>\n",
       "      <th>...</th>\n",
       "      <td>...</td>\n",
       "      <td>...</td>\n",
       "      <td>...</td>\n",
       "      <td>...</td>\n",
       "      <td>...</td>\n",
       "      <td>...</td>\n",
       "      <td>...</td>\n",
       "      <td>...</td>\n",
       "      <td>...</td>\n",
       "      <td>...</td>\n",
       "      <td>...</td>\n",
       "      <td>...</td>\n",
       "      <td>...</td>\n",
       "      <td>...</td>\n",
       "      <td>...</td>\n",
       "      <td>...</td>\n",
       "      <td>...</td>\n",
       "      <td>...</td>\n",
       "      <td>...</td>\n",
       "      <td>...</td>\n",
       "      <td>...</td>\n",
       "    </tr>\n",
       "    <tr>\n",
       "      <th>537</th>\n",
       "      <td>707118</td>\n",
       "      <td>Rundwanderung von der Fiescheralp durch den Tä...</td>\n",
       "      <td>2 - medium</td>\n",
       "      <td>Hiking</td>\n",
       "      <td>10.52</td>\n",
       "      <td>03:05</td>\n",
       "      <td>312</td>\n",
       "      <td>2177</td>\n",
       "      <td>2357.0</td>\n",
       "      <td>4</td>\n",
       "      <td>...</td>\n",
       "      <td>wallis</td>\n",
       "      <td>707118</td>\n",
       "      <td>Rundwanderung von der Fiescheralp durch den Tä...</td>\n",
       "      <td>46.413502</td>\n",
       "      <td>8.103486</td>\n",
       "      <td>46.506592</td>\n",
       "      <td>8.304801</td>\n",
       "      <td>Ulrichen</td>\n",
       "      <td>1345</td>\n",
       "      <td>0</td>\n",
       "    </tr>\n",
       "    <tr>\n",
       "      <th>538</th>\n",
       "      <td>819423</td>\n",
       "      <td>Vom Mattmark-Stausee zur goldenen Madonna auf ...</td>\n",
       "      <td>2 - medium</td>\n",
       "      <td>Hiking</td>\n",
       "      <td>14.60</td>\n",
       "      <td>05:00</td>\n",
       "      <td>642</td>\n",
       "      <td>2199</td>\n",
       "      <td>2841.0</td>\n",
       "      <td>3</td>\n",
       "      <td>...</td>\n",
       "      <td>wallis</td>\n",
       "      <td>819423</td>\n",
       "      <td>Vom Mattmark-Stausee zur goldenen Madonna auf ...</td>\n",
       "      <td>46.047859</td>\n",
       "      <td>7.954258</td>\n",
       "      <td>46.109107</td>\n",
       "      <td>7.929712</td>\n",
       "      <td>Saas Fee</td>\n",
       "      <td>1790</td>\n",
       "      <td>0</td>\n",
       "    </tr>\n",
       "    <tr>\n",
       "      <th>539</th>\n",
       "      <td>130874</td>\n",
       "      <td>Maultierweg / Alter Saumweg Saas-Fee</td>\n",
       "      <td>1 - easy</td>\n",
       "      <td>Thematic route</td>\n",
       "      <td>1.52</td>\n",
       "      <td>00:45</td>\n",
       "      <td>260</td>\n",
       "      <td>1560</td>\n",
       "      <td>1820.0</td>\n",
       "      <td>1</td>\n",
       "      <td>...</td>\n",
       "      <td>wallis</td>\n",
       "      <td>130874</td>\n",
       "      <td>Maultierweg / Alter Saumweg Saas-Fee</td>\n",
       "      <td>46.123535</td>\n",
       "      <td>7.936877</td>\n",
       "      <td>46.109107</td>\n",
       "      <td>7.929712</td>\n",
       "      <td>Saas Fee</td>\n",
       "      <td>1790</td>\n",
       "      <td>0</td>\n",
       "    </tr>\n",
       "    <tr>\n",
       "      <th>540</th>\n",
       "      <td>50737</td>\n",
       "      <td>Via ferrata Mammut - Route C</td>\n",
       "      <td>2 - medium</td>\n",
       "      <td>Via ferrata</td>\n",
       "      <td>5.53</td>\n",
       "      <td>03:30</td>\n",
       "      <td>791</td>\n",
       "      <td>1603</td>\n",
       "      <td>2164.0</td>\n",
       "      <td>0</td>\n",
       "      <td>...</td>\n",
       "      <td>wallis</td>\n",
       "      <td>50737</td>\n",
       "      <td>Klettersteig Schweifinen - Route C</td>\n",
       "      <td>46.023659</td>\n",
       "      <td>7.748089</td>\n",
       "      <td>45.983056</td>\n",
       "      <td>7.782200</td>\n",
       "      <td>Zermatt</td>\n",
       "      <td>1638</td>\n",
       "      <td>0</td>\n",
       "    </tr>\n",
       "    <tr>\n",
       "      <th>541</th>\n",
       "      <td>61913</td>\n",
       "      <td>Dom Ascent</td>\n",
       "      <td>3 - difficult</td>\n",
       "      <td>High tour</td>\n",
       "      <td>11.08</td>\n",
       "      <td>09:30</td>\n",
       "      <td>1574</td>\n",
       "      <td>2938</td>\n",
       "      <td>4545.0</td>\n",
       "      <td>0</td>\n",
       "      <td>...</td>\n",
       "      <td>wallis</td>\n",
       "      <td>61913</td>\n",
       "      <td>Dom Besteigung</td>\n",
       "      <td>46.102669</td>\n",
       "      <td>7.817651</td>\n",
       "      <td>46.196585</td>\n",
       "      <td>7.839791</td>\n",
       "      <td>Graechen</td>\n",
       "      <td>0</td>\n",
       "      <td>0</td>\n",
       "    </tr>\n",
       "  </tbody>\n",
       "</table>\n",
       "<p>542 rows × 21 columns</p>\n",
       "</div>"
      ],
      "text/plain": [
       "         ID                                              title     difficulty  \\\n",
       "0    129549                                        Bornkänzeli     2 - medium   \n",
       "1    129607                                           Aarelauf     2 - medium   \n",
       "2    961881                       Hüslischnegg am Asperstrihen     2 - medium   \n",
       "3    129624                            Rundwanderung Engelberg     2 - medium   \n",
       "4    897134               PanoramatourAG-Strihen-ZeiherHomberg       1 - easy   \n",
       "..      ...                                                ...            ...   \n",
       "537  707118  Rundwanderung von der Fiescheralp durch den Tä...     2 - medium   \n",
       "538  819423  Vom Mattmark-Stausee zur goldenen Madonna auf ...     2 - medium   \n",
       "539  130874               Maultierweg / Alter Saumweg Saas-Fee       1 - easy   \n",
       "540   50737                       Via ferrata Mammut - Route C     2 - medium   \n",
       "541   61913                                         Dom Ascent  3 - difficult   \n",
       "\n",
       "              sport  length   time  climb   min     max  technique  ...  \\\n",
       "0            Hiking   10.30  03:00    318   392   665.0          2  ...   \n",
       "1            Hiking   11.34  02:30     75   391   428.0          2  ...   \n",
       "2            Hiking    5.00  01:23    173   670   804.0          3  ...   \n",
       "3            Hiking   11.17  03:30    283   395   702.0          1  ...   \n",
       "4      Mountainbike   25.29  01:31    756   438   740.0          1  ...   \n",
       "..              ...     ...    ...    ...   ...     ...        ...  ...   \n",
       "537          Hiking   10.52  03:05    312  2177  2357.0          4  ...   \n",
       "538          Hiking   14.60  05:00    642  2199  2841.0          3  ...   \n",
       "539  Thematic route    1.52  00:45    260  1560  1820.0          1  ...   \n",
       "540     Via ferrata    5.53  03:30    791  1603  2164.0          0  ...   \n",
       "541       High tour   11.08  09:30   1574  2938  4545.0          0  ...   \n",
       "\n",
       "     region trail_id                                               name  \\\n",
       "0    aargau   129549                                        Bornkänzeli   \n",
       "1    aargau   129607                                           Aarelauf   \n",
       "2    aargau   961881                       Hüslischnegg am Asperstrihen   \n",
       "3    aargau   129624                            Rundwanderung Engelberg   \n",
       "4    aargau   897134               PanoramatourAG-Strihen-ZeiherHomberg   \n",
       "..      ...      ...                                                ...   \n",
       "537  wallis   707118  Rundwanderung von der Fiescheralp durch den Tä...   \n",
       "538  wallis   819423  Vom Mattmark-Stausee zur goldenen Madonna auf ...   \n",
       "539  wallis   130874               Maultierweg / Alter Saumweg Saas-Fee   \n",
       "540  wallis    50737                 Klettersteig Schweifinen - Route C   \n",
       "541  wallis    61913                                     Dom Besteigung   \n",
       "\n",
       "           lat       lon  snow_obs_lat  snow_obs_lng  snow_obs_location  \\\n",
       "0    47.320610  7.907470     47.537870      7.570988          Binningen   \n",
       "1    47.320610  7.907470     47.537870      7.570988          Binningen   \n",
       "2    47.436832  8.029861     47.537870      7.570988          Binningen   \n",
       "3    47.320080  7.899660     47.537870      7.570988          Binningen   \n",
       "4    47.462158  7.996060     47.537870      7.570988          Binningen   \n",
       "..         ...       ...           ...           ...                ...   \n",
       "537  46.413502  8.103486     46.506592      8.304801           Ulrichen   \n",
       "538  46.047859  7.954258     46.109107      7.929712           Saas Fee   \n",
       "539  46.123535  7.936877     46.109107      7.929712           Saas Fee   \n",
       "540  46.023659  7.748089     45.983056      7.782200            Zermatt   \n",
       "541  46.102669  7.817651     46.196585      7.839791           Graechen   \n",
       "\n",
       "    snow_obs_alt  snowlevel_in_cm  \n",
       "0            316                0  \n",
       "1            316                0  \n",
       "2            316                0  \n",
       "3            316                0  \n",
       "4            316                0  \n",
       "..           ...              ...  \n",
       "537         1345                0  \n",
       "538         1790                0  \n",
       "539         1790                0  \n",
       "540         1638                0  \n",
       "541            0                0  \n",
       "\n",
       "[542 rows x 21 columns]"
      ]
     },
     "execution_count": 19,
     "metadata": {},
     "output_type": "execute_result"
    }
   ],
   "source": [
    "# Adding the coordinates of the nearest snow point to each 'activity'\n",
    "activities['snow_obs_lat'] = near_lat\n",
    "activities['snow_obs_lng'] = near_lng\n",
    "\n",
    "# Merged 'snow' with 'activity' (expected len is length of 'activity')\n",
    "merged = pd.merge(activities, snow, on=['snow_obs_lat','snow_obs_lng'])\n",
    "merged"
   ]
  },
  {
   "cell_type": "markdown",
   "metadata": {},
   "source": [
    "# 3 Calculate the snow alert"
   ]
  },
  {
   "cell_type": "markdown",
   "metadata": {},
   "source": [
    "## Condition 1: Relevance of snow level\n",
    "We want to make sure our snow level is actually relevant: \n",
    "The snow point has to be less than 30 km away from the hike (30 km is in between the average resolution of the snow thickness maps of SLF, the hi res being 2-5 km, the larger one around 50)."
   ]
  },
  {
   "cell_type": "code",
   "execution_count": 26,
   "metadata": {},
   "outputs": [
    {
     "data": {
      "text/plain": [
       "array(['No local data', 'check for yourself'], dtype=object)"
      ]
     },
     "execution_count": 26,
     "metadata": {},
     "output_type": "execute_result"
    }
   ],
   "source": [
    "# Calculating the distance between gps point and nearest point\n",
    "distance = []  # contains the distances in km from snow measurement to hike start\n",
    "for index, row in merged.iterrows(): # iterating through merged df\n",
    "    gps_coords = (row['lat'], row['lon'])\n",
    "    snow_coords = (row['snow_obs_lat'], row['snow_obs_lng'])\n",
    "    d = round(geopy.distance.geodesic(gps_coords, snow_coords).km, 1)\n",
    "    distance.append(d)\n",
    "\n",
    "# Append distance to df and assign status\n",
    "merged['distance'] = distance\n",
    "merged['snow_status'] = 'check for yourself' # starting with a default status\n",
    "merged.loc[merged['distance'] > 30, 'snow_status'] = 'No local data'\n",
    "merged['snow_status'].unique() #for now only 'No local data', 'check for yourself'"
   ]
  },
  {
   "cell_type": "markdown",
   "metadata": {},
   "source": [
    "## Condition 2: Difference in Altitude\n",
    " i.e. altitude difference should be <1000m. \n",
    "- we chose 1000 m because it's the resolution of SLF data\n",
    "- #1: if the snow measurement was done more than 1000 m lower than the max alt of the hike, we want a warning saying potential snow\n",
    "- #2: if the measurement is more than 1000 m higher than the max alt, we want a message saying the hike is low altitude\n",
    "- #3: if any snow point in a radius of 80 km of a lower altitude has snow, we want a snow warning\n",
    "- #4: if the measurement is within 1000 m up and down of the highest point, we consider it accurate"
   ]
  },
  {
   "cell_type": "code",
   "execution_count": 31,
   "metadata": {
    "scrolled": true
   },
   "outputs": [
    {
     "data": {
      "text/plain": [
       "(array(['No Snow', 'No local data', 'Snow'], dtype=object),\n",
       "          ID                                              title     difficulty  \\\n",
       " 0    129549                                        Bornkänzeli     2 - medium   \n",
       " 1    129607                                           Aarelauf     2 - medium   \n",
       " 2    961881                       Hüslischnegg am Asperstrihen     2 - medium   \n",
       " 3    129624                            Rundwanderung Engelberg     2 - medium   \n",
       " 4    897134               PanoramatourAG-Strihen-ZeiherHomberg       1 - easy   \n",
       " ..      ...                                                ...            ...   \n",
       " 537  707118  Rundwanderung von der Fiescheralp durch den Tä...     2 - medium   \n",
       " 538  819423  Vom Mattmark-Stausee zur goldenen Madonna auf ...     2 - medium   \n",
       " 539  130874               Maultierweg / Alter Saumweg Saas-Fee       1 - easy   \n",
       " 540   50737                       Via ferrata Mammut - Route C     2 - medium   \n",
       " 541   61913                                         Dom Ascent  3 - difficult   \n",
       " \n",
       "               sport  length   time  climb   min     max  technique  ...  \\\n",
       " 0            Hiking   10.30  03:00    318   392   665.0          2  ...   \n",
       " 1            Hiking   11.34  02:30     75   391   428.0          2  ...   \n",
       " 2            Hiking    5.00  01:23    173   670   804.0          3  ...   \n",
       " 3            Hiking   11.17  03:30    283   395   702.0          1  ...   \n",
       " 4      Mountainbike   25.29  01:31    756   438   740.0          1  ...   \n",
       " ..              ...     ...    ...    ...   ...     ...        ...  ...   \n",
       " 537          Hiking   10.52  03:05    312  2177  2357.0          4  ...   \n",
       " 538          Hiking   14.60  05:00    642  2199  2841.0          3  ...   \n",
       " 539  Thematic route    1.52  00:45    260  1560  1820.0          1  ...   \n",
       " 540     Via ferrata    5.53  03:30    791  1603  2164.0          0  ...   \n",
       " 541       High tour   11.08  09:30   1574  2938  4545.0          0  ...   \n",
       " \n",
       "                                                   name        lat       lon  \\\n",
       " 0                                          Bornkänzeli  47.320610  7.907470   \n",
       " 1                                             Aarelauf  47.320610  7.907470   \n",
       " 2                         Hüslischnegg am Asperstrihen  47.436832  8.029861   \n",
       " 3                              Rundwanderung Engelberg  47.320080  7.899660   \n",
       " 4                 PanoramatourAG-Strihen-ZeiherHomberg  47.462158  7.996060   \n",
       " ..                                                 ...        ...       ...   \n",
       " 537  Rundwanderung von der Fiescheralp durch den Tä...  46.413502  8.103486   \n",
       " 538  Vom Mattmark-Stausee zur goldenen Madonna auf ...  46.047859  7.954258   \n",
       " 539               Maultierweg / Alter Saumweg Saas-Fee  46.123535  7.936877   \n",
       " 540                 Klettersteig Schweifinen - Route C  46.023659  7.748089   \n",
       " 541                                     Dom Besteigung  46.102669  7.817651   \n",
       " \n",
       "     snow_obs_lat  snow_obs_lng  snow_obs_location  snow_obs_alt  \\\n",
       " 0      47.537870      7.570988          Binningen           316   \n",
       " 1      47.537870      7.570988          Binningen           316   \n",
       " 2      47.537870      7.570988          Binningen           316   \n",
       " 3      47.537870      7.570988          Binningen           316   \n",
       " 4      47.537870      7.570988          Binningen           316   \n",
       " ..           ...           ...                ...           ...   \n",
       " 537    46.506592      8.304801           Ulrichen          1345   \n",
       " 538    46.109107      7.929712           Saas Fee          1790   \n",
       " 539    46.109107      7.929712           Saas Fee          1790   \n",
       " 540    45.983056      7.782200            Zermatt          1638   \n",
       " 541    46.196585      7.839791           Graechen             0   \n",
       " \n",
       "      snowlevel_in_cm distance    snow_status  \n",
       " 0                  0     35.0        No Snow  \n",
       " 1                  0     35.0        No Snow  \n",
       " 2                  0     36.4        No Snow  \n",
       " 3                  0     34.7        No Snow  \n",
       " 4                  0     33.1        No Snow  \n",
       " ..               ...      ...            ...  \n",
       " 537                0     18.6  No local data  \n",
       " 538                0      7.1  No local data  \n",
       " 539                0      1.7        No Snow  \n",
       " 540                0      5.2        No Snow  \n",
       " 541                0     10.6  No local data  \n",
       " \n",
       " [542 rows x 23 columns])"
      ]
     },
     "execution_count": 31,
     "metadata": {},
     "output_type": "execute_result"
    }
   ],
   "source": [
    "# 'Snow' if max alt of the hike within 1000m vertical radius of snow point, otherwise 'check for yourself'\n",
    "merged.loc[(merged['snowlevel_in_cm'] > 0) & (\n",
    "    merged['max'] + 1000 > merged['snow_obs_alt']), 'snow_status'] = 'Snow'\n",
    "\n",
    "# 'No snow' if there is no snow and the max alt is <1000m over the snow point, otherwise 'check for yourself'\n",
    "merged.loc[(merged['snowlevel_in_cm'] == 0) & (\n",
    "    merged['max'] <= merged['snow_obs_alt'] + 1000), 'snow_status'] = 'No Snow'\n",
    "\n",
    "# 'No local data' if there is no snow and the max hike alt is >1000m over the snow point\n",
    "merged.loc[(merged['snowlevel_in_cm'] == 0) & (\n",
    "    merged['max'] > merged['snow_obs_alt'] + 1000), 'snow_status'] = 'No local data'\n",
    "\n",
    "# if any snow point in a radius of 60 km of a lower altitude has snow, we want a snow warning\n",
    "# if the measurement is within 1000 m up and down of the highest point, we consider it accurate\n",
    "merged['snow_status'].unique(), merged"
   ]
  },
  {
   "cell_type": "markdown",
   "metadata": {},
   "source": [
    "## Write CSV"
   ]
  },
  {
   "cell_type": "code",
   "execution_count": 32,
   "metadata": {},
   "outputs": [],
   "source": [
    "merged.to_csv(filepath + 'activities_snow_alert.csv', index = False)"
   ]
  },
  {
   "cell_type": "markdown",
   "metadata": {},
   "source": [
    "This is the end of this project.\n",
    "Please do check out our next project where we create a dashboard in Tableau to visualize the hikes.\n",
    "## LINK"
   ]
  },
  {
   "cell_type": "code",
   "execution_count": null,
   "metadata": {},
   "outputs": [],
   "source": []
  }
 ],
 "metadata": {
  "kernelspec": {
   "display_name": "Python 3",
   "language": "python",
   "name": "python3"
  },
  "language_info": {
   "codemirror_mode": {
    "name": "ipython",
    "version": 3
   },
   "file_extension": ".py",
   "mimetype": "text/x-python",
   "name": "python",
   "nbconvert_exporter": "python",
   "pygments_lexer": "ipython3",
   "version": "3.8.3"
  },
  "toc": {
   "base_numbering": 1,
   "nav_menu": {},
   "number_sections": true,
   "sideBar": true,
   "skip_h1_title": false,
   "title_cell": "Table of Contents",
   "title_sidebar": "Contents",
   "toc_cell": false,
   "toc_position": {
    "height": "calc(100% - 180px)",
    "left": "10px",
    "top": "150px",
    "width": "198.796875px"
   },
   "toc_section_display": true,
   "toc_window_display": true
  }
 },
 "nbformat": 4,
 "nbformat_minor": 4
}
