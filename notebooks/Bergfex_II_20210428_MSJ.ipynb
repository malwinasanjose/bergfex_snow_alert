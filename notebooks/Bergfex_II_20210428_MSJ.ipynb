{
 "cells": [
  {
   "cell_type": "markdown",
   "metadata": {},
   "source": [
    "## Bergfex Webscraping\n",
    "<b> Milestone 2</b> \n",
    "\n",
    "Scraping the snow level data from meteocentrale.ch website in order to create Pandas dataframes that contain the snow level for 91 weather stations around Switzerland.\n",
    "This code uses BeautifulSoup to parse the html tags. A for-loop iterates over each html tag and adds the corresponding information into empty lists. Afterwards the data is cleaned.\n",
    "Finally, we add the GPS coordinates of each weather station."
   ]
  },
  {
   "cell_type": "markdown",
   "metadata": {},
   "source": [
    "### Installations"
   ]
  },
  {
   "cell_type": "code",
   "execution_count": 1,
   "metadata": {},
   "outputs": [],
   "source": [
    "# unhash and run the below line once\n",
    "#conda install -c anaconda beautifulsoup4"
   ]
  },
  {
   "cell_type": "markdown",
   "metadata": {},
   "source": [
    "### Imports"
   ]
  },
  {
   "cell_type": "code",
   "execution_count": 2,
   "metadata": {},
   "outputs": [],
   "source": [
    "import requests\n",
    "import re\n",
    "from bs4 import BeautifulSoup\n",
    "import pandas as pd\n",
    "import numpy as np\n",
    "import matplotlib\n",
    "import matplotlib.pyplot as plt"
   ]
  },
  {
   "cell_type": "markdown",
   "metadata": {},
   "source": [
    "# Still to do:"
   ]
  },
  {
   "cell_type": "markdown",
   "metadata": {},
   "source": [
    "- DONE: check vs. NB III if anything missing\n",
    "- wip: go through comments\n",
    "- add coordinates part for snow points\n",
    "- potentially check out other weather data"
   ]
  },
  {
   "cell_type": "markdown",
   "metadata": {},
   "source": [
    "# 1 Data Scraping: snow information"
   ]
  },
  {
   "cell_type": "code",
   "execution_count": 3,
   "metadata": {},
   "outputs": [
    {
     "name": "stdout",
     "output_type": "stream",
     "text": [
      "200\n"
     ]
    }
   ],
   "source": [
    "# Initializing the future colums of our dataframe with empty lists\n",
    "\n",
    "snowlevel = []  # height in cm\n",
    "location = []  # town and elevation of town\n",
    "\n",
    "# Only scrape one page (no looping over several pages necessary as not so many data points available)\n",
    "link = 'http://www.meteocentrale.ch/de/wetter/hitlisten/schneehoehen.html'\n",
    "page = requests.get(link, timeout=10)\n",
    "print(page.status_code)\n",
    "soup = BeautifulSoup(page.content, \"html.parser\")  # bs4.BeautifulSoup object\n",
    "hitlist = soup.findAll('table', {'class': 'hitlist'})  #bs4.element.ResultSet\n",
    "\n",
    "# If '200' then the scraping was successful"
   ]
  },
  {
   "cell_type": "markdown",
   "metadata": {},
   "source": [
    "# 2 Extracting the necessary information\n",
    "Village Name, Elevation, Snow Level"
   ]
  },
  {
   "cell_type": "code",
   "execution_count": 4,
   "metadata": {},
   "outputs": [
    {
     "data": {
      "text/html": [
       "<div>\n",
       "<style scoped>\n",
       "    .dataframe tbody tr th:only-of-type {\n",
       "        vertical-align: middle;\n",
       "    }\n",
       "\n",
       "    .dataframe tbody tr th {\n",
       "        vertical-align: top;\n",
       "    }\n",
       "\n",
       "    .dataframe thead th {\n",
       "        text-align: right;\n",
       "    }\n",
       "</style>\n",
       "<table border=\"1\" class=\"dataframe\">\n",
       "  <thead>\n",
       "    <tr style=\"text-align: right;\">\n",
       "      <th></th>\n",
       "      <th>location</th>\n",
       "      <th>snowlevel</th>\n",
       "    </tr>\n",
       "  </thead>\n",
       "  <tbody>\n",
       "    <tr>\n",
       "      <th>0</th>\n",
       "      <td>Grimsel-Hospiz, 1980 m</td>\n",
       "      <td>309 cm</td>\n",
       "    </tr>\n",
       "    <tr>\n",
       "      <th>1</th>\n",
       "      <td>Glattalp, 1858 m</td>\n",
       "      <td>288 cm</td>\n",
       "    </tr>\n",
       "    <tr>\n",
       "      <th>2</th>\n",
       "      <td>Weissfluhjoch, 2690 m</td>\n",
       "      <td>249 cm</td>\n",
       "    </tr>\n",
       "    <tr>\n",
       "      <th>3</th>\n",
       "      <td>Gütsch/Andermatt, 2282 m</td>\n",
       "      <td>162 cm</td>\n",
       "    </tr>\n",
       "    <tr>\n",
       "      <th>4</th>\n",
       "      <td>Schwägalp, 1350 m</td>\n",
       "      <td>118 cm</td>\n",
       "    </tr>\n",
       "    <tr>\n",
       "      <th>...</th>\n",
       "      <td>...</td>\n",
       "      <td>...</td>\n",
       "    </tr>\n",
       "    <tr>\n",
       "      <th>87</th>\n",
       "      <td>Zermatt, 1638 m</td>\n",
       "      <td>0 cm</td>\n",
       "    </tr>\n",
       "    <tr>\n",
       "      <th>88</th>\n",
       "      <td>Zollikofen, 553 m</td>\n",
       "      <td>0 cm</td>\n",
       "    </tr>\n",
       "    <tr>\n",
       "      <th>89</th>\n",
       "      <td>Zürich-Affoltern, 443 m</td>\n",
       "      <td>0 cm</td>\n",
       "    </tr>\n",
       "    <tr>\n",
       "      <th>90</th>\n",
       "      <td>Zürich-Flughafen, 432 m</td>\n",
       "      <td>0 cm</td>\n",
       "    </tr>\n",
       "    <tr>\n",
       "      <th>91</th>\n",
       "      <td>Zürich-Fluntern (SMA), 556 m</td>\n",
       "      <td>0 cm</td>\n",
       "    </tr>\n",
       "  </tbody>\n",
       "</table>\n",
       "<p>92 rows × 2 columns</p>\n",
       "</div>"
      ],
      "text/plain": [
       "                        location snowlevel\n",
       "0         Grimsel-Hospiz, 1980 m    309 cm\n",
       "1               Glattalp, 1858 m    288 cm\n",
       "2          Weissfluhjoch, 2690 m    249 cm\n",
       "3       Gütsch/Andermatt, 2282 m    162 cm\n",
       "4              Schwägalp, 1350 m    118 cm\n",
       "..                           ...       ...\n",
       "87               Zermatt, 1638 m      0 cm\n",
       "88             Zollikofen, 553 m      0 cm\n",
       "89       Zürich-Affoltern, 443 m      0 cm\n",
       "90       Zürich-Flughafen, 432 m      0 cm\n",
       "91  Zürich-Fluntern (SMA), 556 m      0 cm\n",
       "\n",
       "[92 rows x 2 columns]"
      ]
     },
     "execution_count": 4,
     "metadata": {},
     "output_type": "execute_result"
    }
   ],
   "source": [
    "# Get location name\n",
    "location_item = hitlist[0].findAll('a')\n",
    "location.append([info.get_text().strip() for info in location_item])\n",
    "loc = location[0]\n",
    "\n",
    "# Get snowlevel\n",
    "snowlevel_item = hitlist[0].findAll('td', {'class': 'value'}) \n",
    "snowlevel.append([info.get_text().strip() for info in snowlevel_item])\n",
    "snow = snowlevel[0]\n",
    "\n",
    "# Combine into DF\n",
    "heights_df = pd.DataFrame({'location': loc,'snowlevel': snow})\n",
    "heights_df"
   ]
  },
  {
   "cell_type": "markdown",
   "metadata": {},
   "source": [
    "# 3 Data Cleaning"
   ]
  },
  {
   "cell_type": "markdown",
   "metadata": {},
   "source": [
    "## Clean numerical data"
   ]
  },
  {
   "cell_type": "code",
   "execution_count": 5,
   "metadata": {},
   "outputs": [
    {
     "data": {
      "text/html": [
       "<div>\n",
       "<style scoped>\n",
       "    .dataframe tbody tr th:only-of-type {\n",
       "        vertical-align: middle;\n",
       "    }\n",
       "\n",
       "    .dataframe tbody tr th {\n",
       "        vertical-align: top;\n",
       "    }\n",
       "\n",
       "    .dataframe thead th {\n",
       "        text-align: right;\n",
       "    }\n",
       "</style>\n",
       "<table border=\"1\" class=\"dataframe\">\n",
       "  <thead>\n",
       "    <tr style=\"text-align: right;\">\n",
       "      <th></th>\n",
       "      <th>location</th>\n",
       "      <th>height_in_m</th>\n",
       "      <th>snowlevel_in_cm</th>\n",
       "    </tr>\n",
       "  </thead>\n",
       "  <tbody>\n",
       "    <tr>\n",
       "      <th>0</th>\n",
       "      <td>Grimsel-Hospiz</td>\n",
       "      <td>1980</td>\n",
       "      <td>309</td>\n",
       "    </tr>\n",
       "    <tr>\n",
       "      <th>1</th>\n",
       "      <td>Glattalp</td>\n",
       "      <td>1858</td>\n",
       "      <td>288</td>\n",
       "    </tr>\n",
       "    <tr>\n",
       "      <th>2</th>\n",
       "      <td>Weissfluhjoch</td>\n",
       "      <td>2690</td>\n",
       "      <td>249</td>\n",
       "    </tr>\n",
       "    <tr>\n",
       "      <th>3</th>\n",
       "      <td>Gütsch/Andermatt</td>\n",
       "      <td>2282</td>\n",
       "      <td>162</td>\n",
       "    </tr>\n",
       "    <tr>\n",
       "      <th>4</th>\n",
       "      <td>Schwägalp</td>\n",
       "      <td>1350</td>\n",
       "      <td>118</td>\n",
       "    </tr>\n",
       "    <tr>\n",
       "      <th>...</th>\n",
       "      <td>...</td>\n",
       "      <td>...</td>\n",
       "      <td>...</td>\n",
       "    </tr>\n",
       "    <tr>\n",
       "      <th>87</th>\n",
       "      <td>Zermatt</td>\n",
       "      <td>1638</td>\n",
       "      <td>0</td>\n",
       "    </tr>\n",
       "    <tr>\n",
       "      <th>88</th>\n",
       "      <td>Zollikofen</td>\n",
       "      <td>553</td>\n",
       "      <td>0</td>\n",
       "    </tr>\n",
       "    <tr>\n",
       "      <th>89</th>\n",
       "      <td>Zürich-Affoltern</td>\n",
       "      <td>443</td>\n",
       "      <td>0</td>\n",
       "    </tr>\n",
       "    <tr>\n",
       "      <th>90</th>\n",
       "      <td>Zürich-Flughafen</td>\n",
       "      <td>432</td>\n",
       "      <td>0</td>\n",
       "    </tr>\n",
       "    <tr>\n",
       "      <th>91</th>\n",
       "      <td>Zürich-Fluntern (SMA)</td>\n",
       "      <td>556</td>\n",
       "      <td>0</td>\n",
       "    </tr>\n",
       "  </tbody>\n",
       "</table>\n",
       "<p>92 rows × 3 columns</p>\n",
       "</div>"
      ],
      "text/plain": [
       "                 location height_in_m  snowlevel_in_cm\n",
       "0          Grimsel-Hospiz        1980              309\n",
       "1                Glattalp        1858              288\n",
       "2           Weissfluhjoch        2690              249\n",
       "3        Gütsch/Andermatt        2282              162\n",
       "4               Schwägalp        1350              118\n",
       "..                    ...         ...              ...\n",
       "87                Zermatt        1638                0\n",
       "88             Zollikofen         553                0\n",
       "89       Zürich-Affoltern         443                0\n",
       "90       Zürich-Flughafen         432                0\n",
       "91  Zürich-Fluntern (SMA)         556                0\n",
       "\n",
       "[92 rows x 3 columns]"
      ]
     },
     "execution_count": 5,
     "metadata": {},
     "output_type": "execute_result"
    }
   ],
   "source": [
    "# Remove cm, convert to 'int'\n",
    "heights_df['snowlevel_in_cm']=pd.Series(heights_df['snowlevel']).str.replace(\" cm\", '')\n",
    "heights_df['snowlevel_in_cm']=pd.Series(heights_df['snowlevel_in_cm']).astype(int)\n",
    "\n",
    "# Split location into 'village' and 'elevation of village' and merge with previous DF\n",
    "split_loc = pd.Series(heights_df['location']).str.split(',',n=2,expand = True)\n",
    "merged_df = pd.merge(heights_df, split_loc, left_index=True, right_index=True)\n",
    "\n",
    "# Drop unused columns, rename final columns, remove unit, sort columns\n",
    "intermediate_df = merged_df.iloc[:,[2,3,4]].copy()\n",
    "intermediate_df.columns = ['snowlevel_in_cm', 'location', 'height_in_m']\n",
    "intermediate_df['height_in_m']=pd.Series(intermediate_df['height_in_m']).str.replace(\" m\", '')\n",
    "snow_level_df = pd.DataFrame(intermediate_df, columns = ['location', 'height_in_m', 'snowlevel_in_cm'])\n",
    "snow_level_df.head()"
   ]
  },
  {
   "cell_type": "markdown",
   "metadata": {},
   "source": [
    "## Write CSV"
   ]
  },
  {
   "cell_type": "code",
   "execution_count": 6,
   "metadata": {},
   "outputs": [],
   "source": [
    "# change the file_path to your path if necessary\n",
    "file_path = '../data'\n",
    "snow_level_df.to_csv(file_path & 'snow_level_test.csv', index = False)"
   ]
  },
  {
   "cell_type": "markdown",
   "metadata": {},
   "source": [
    "# 4 Adding Coordinates"
   ]
  },
  {
   "cell_type": "markdown",
   "metadata": {},
   "source": [
    "## Matching the snow level observation station with GPS coordinates"
   ]
  },
  {
   "cell_type": "markdown",
   "metadata": {},
   "source": [
    "We need to get the coordinates for each snow observation station (for which we have the name of the locality)\n",
    "\n",
    "We use two sources (all coordinates are given in EPSG:4326/WGS84): \n",
    "    1/ from World Cities Database, which contains most large cities in Switzerland and geographic info saved as swiss_cities.csv\n",
    "    2/ Ski resort coordinates, for the smaller but more relevant localities in mountaineous areas. Those were collected from Wikipedia and skiresort.info, saved as ski.csv"
   ]
  },
  {
   "cell_type": "code",
   "execution_count": null,
   "metadata": {},
   "outputs": [],
   "source": [
    "# cleaning of dataframes: this step needs to be adapted to data sources and csv content. \n",
    "# Here the files were overwritten with the cleaned up version, so no need to run the following steps\n",
    "\n",
    "filepath = '../data/' # change to your local folder\n",
    "\n",
    "cities = pd.read_csv((filepath + 'swiss_cities.csv'))\n",
    "ski_resorts = pd.read_csv((filepath + 'ski.csv'))\n",
    "\n",
    "cities = cities.drop(columns ={'iso2', 'country', 'capital', 'population', 'population_proper', 'admin_name'})\n",
    "ski_resorts = ski_resorts.rename(columns = {'X':'lng', 'Y':'lat', 'Name': 'city'})\n",
    "ski_resorts = ski_resorts.drop(columns = {'description'})\n",
    "ski_resorts = ski_resorts[['city', 'lat', 'lng']]\n",
    "\n",
    "\n",
    "# merging the two dataframes\n",
    "\n",
    "swiss_cities = pd.concat([cities, ski_resorts], ignore_index=True)\n"
   ]
  },
  {
   "cell_type": "code",
   "execution_count": null,
   "metadata": {},
   "outputs": [],
   "source": [
    "swiss_cities.info() # 146 rows"
   ]
  },
  {
   "cell_type": "code",
   "execution_count": null,
   "metadata": {},
   "outputs": [],
   "source": [
    "# saving the dataframe as city_coord\n",
    "swiss_cities.to_csv(filepath +'city_coord.csv', index = False) # has city, lat long in it"
   ]
  },
  {
   "cell_type": "markdown",
   "metadata": {},
   "source": [
    "## Write CSV"
   ]
  },
  {
   "cell_type": "code",
   "execution_count": 7,
   "metadata": {},
   "outputs": [
    {
     "ename": "NameError",
     "evalue": "name 'snow_level_coord' is not defined",
     "output_type": "error",
     "traceback": [
      "\u001b[0;31m---------------------------------------------------------------------------\u001b[0m",
      "\u001b[0;31mNameError\u001b[0m                                 Traceback (most recent call last)",
      "\u001b[0;32m<ipython-input-7-89424edc5c1d>\u001b[0m in \u001b[0;36m<module>\u001b[0;34m\u001b[0m\n\u001b[1;32m      1\u001b[0m \u001b[0;31m# change the file_path to your path\u001b[0m\u001b[0;34m\u001b[0m\u001b[0;34m\u001b[0m\u001b[0;34m\u001b[0m\u001b[0m\n\u001b[1;32m      2\u001b[0m \u001b[0mfile_path\u001b[0m \u001b[0;34m=\u001b[0m \u001b[0;34m'C:/Users/Malwina/Desktop/bergfex_snow_alert/data/snow_coordinates_test.csv'\u001b[0m\u001b[0;34m\u001b[0m\u001b[0;34m\u001b[0m\u001b[0m\n\u001b[0;32m----> 3\u001b[0;31m \u001b[0msnow_level_coord\u001b[0m\u001b[0;34m.\u001b[0m\u001b[0mto_csv\u001b[0m\u001b[0;34m(\u001b[0m\u001b[0mfile_path\u001b[0m\u001b[0;34m,\u001b[0m \u001b[0mindex\u001b[0m \u001b[0;34m=\u001b[0m \u001b[0;32mFalse\u001b[0m\u001b[0;34m)\u001b[0m\u001b[0;34m\u001b[0m\u001b[0;34m\u001b[0m\u001b[0m\n\u001b[0m",
      "\u001b[0;31mNameError\u001b[0m: name 'snow_level_coord' is not defined"
     ]
    }
   ],
   "source": [
    "# change the file_path to your path if necessary\n",
    "#file_path = '../data/'\n",
    "snow_level_coord.to_csv(file_path & 'snow_coordinates_test.csv', index = False)"
   ]
  },
  {
   "cell_type": "markdown",
   "metadata": {},
   "source": [
    "# CONTINUE IN NOTEBOOK III"
   ]
  },
  {
   "cell_type": "code",
   "execution_count": null,
   "metadata": {},
   "outputs": [],
   "source": []
  }
 ],
 "metadata": {
  "kernelspec": {
   "display_name": "Python 3",
   "language": "python",
   "name": "python3"
  },
  "language_info": {
   "codemirror_mode": {
    "name": "ipython",
    "version": 3
   },
   "file_extension": ".py",
   "mimetype": "text/x-python",
   "name": "python",
   "nbconvert_exporter": "python",
   "pygments_lexer": "ipython3",
   "version": "3.8.3"
  },
  "toc": {
   "base_numbering": 1,
   "nav_menu": {},
   "number_sections": true,
   "sideBar": true,
   "skip_h1_title": false,
   "title_cell": "Table of Contents",
   "title_sidebar": "Contents",
   "toc_cell": false,
   "toc_position": {},
   "toc_section_display": true,
   "toc_window_display": true
  }
 },
 "nbformat": 4,
 "nbformat_minor": 4
}
