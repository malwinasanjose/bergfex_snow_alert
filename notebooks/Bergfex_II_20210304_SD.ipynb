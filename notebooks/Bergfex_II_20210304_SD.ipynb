{
 "cells": [
  {
   "cell_type": "markdown",
   "metadata": {},
   "source": [
    "# Part II: Webscraping"
   ]
  },
  {
   "cell_type": "markdown",
   "metadata": {},
   "source": [
    "# Read me\n",
    "\n",
    "This is part II of our Webscraping project:\n",
    "\n",
    "Planning a winter time hikes can be complicated in Switzerland. Sometimes hiking in the snow is an exciting adventure, but it can also be an unexpected surprise. There is no shortage of trail databases that contain information about how long or how difficult a trail is, however finding up to date information about snowfall data on these trails can be tedious. This notebook solves the snowline problem by scraping GPX data from bergfex.com and meteocentrale.ch. \n",
    "\n",
    "Weather GPS data is obtained from multiple weather towers across Switzerland that publicly provide current weather data. Since these towers are located in a specific latitude and longitude, an approximate chance of snowfall was assumed based on the distance from the tower and altitude. If a trail is within a certain distance from a tower, and is also at a certain altitude then it will be tagged with a snow alert. This was implemented by using the nearest neighbor algorithm, which finds the closest hiking trails to a tower that has reported snow."
   ]
  },
  {
   "cell_type": "markdown",
   "metadata": {},
   "source": [
    "## 1 Prerequisites: Installs and Imports"
   ]
  },
  {
   "cell_type": "code",
   "execution_count": 1,
   "metadata": {},
   "outputs": [],
   "source": [
    "# unhash and run the below line once\n",
    "#conda install -c anaconda beautifulsoup4"
   ]
  },
  {
   "cell_type": "code",
   "execution_count": 2,
   "metadata": {},
   "outputs": [],
   "source": [
    "import requests\n",
    "import re\n",
    "from bs4 import BeautifulSoup\n",
    "import pandas as pd\n",
    "import numpy as np\n",
    "import matplotlib\n",
    "import matplotlib.pyplot as plt"
   ]
  },
  {
   "cell_type": "markdown",
   "metadata": {},
   "source": [
    "## 2 Data Scraping: snow information"
   ]
  },
  {
   "cell_type": "code",
   "execution_count": 3,
   "metadata": {},
   "outputs": [
    {
     "name": "stdout",
     "output_type": "stream",
     "text": [
      "200\n"
     ]
    }
   ],
   "source": [
    "### initializing the future colums of our dataframe with empty lists\n",
    "\n",
    "snowlevel = []  # height in cm\n",
    "location = []  # town and elevation of town\n",
    "\n",
    "### only scrape one page (no looping over several pages necessary as not so many data points available)\n",
    "link = 'http://www.meteocentrale.ch/de/wetter/hitlisten/schneehoehen.html'\n",
    "page = requests.get(link, timeout=10)\n",
    "print(page.status_code)\n",
    "soup = BeautifulSoup(page.content, \"html.parser\")  # bs4.BeautifulSoup object\n",
    "hitlist = soup.findAll('table', {'class': 'hitlist'})  #bs4.element.ResultSet"
   ]
  },
  {
   "cell_type": "code",
   "execution_count": 4,
   "metadata": {},
   "outputs": [],
   "source": [
    "#soup"
   ]
  },
  {
   "cell_type": "code",
   "execution_count": 5,
   "metadata": {},
   "outputs": [],
   "source": [
    "#hitlist"
   ]
  },
  {
   "cell_type": "markdown",
   "metadata": {},
   "source": [
    "## 3 Filtering for the necessary information\n",
    "Village Name, Elevation, Snow Level"
   ]
  },
  {
   "cell_type": "code",
   "execution_count": 6,
   "metadata": {},
   "outputs": [
    {
     "data": {
      "text/html": [
       "<div>\n",
       "<style scoped>\n",
       "    .dataframe tbody tr th:only-of-type {\n",
       "        vertical-align: middle;\n",
       "    }\n",
       "\n",
       "    .dataframe tbody tr th {\n",
       "        vertical-align: top;\n",
       "    }\n",
       "\n",
       "    .dataframe thead th {\n",
       "        text-align: right;\n",
       "    }\n",
       "</style>\n",
       "<table border=\"1\" class=\"dataframe\">\n",
       "  <thead>\n",
       "    <tr style=\"text-align: right;\">\n",
       "      <th></th>\n",
       "      <th>location</th>\n",
       "      <th>snowlevel</th>\n",
       "    </tr>\n",
       "  </thead>\n",
       "  <tbody>\n",
       "    <tr>\n",
       "      <th>0</th>\n",
       "      <td>Grimsel-Hospiz, 1980 m</td>\n",
       "      <td>238 cm</td>\n",
       "    </tr>\n",
       "    <tr>\n",
       "      <th>1</th>\n",
       "      <td>Glattalp, 1858 m</td>\n",
       "      <td>215 cm</td>\n",
       "    </tr>\n",
       "    <tr>\n",
       "      <th>2</th>\n",
       "      <td>Melchsee-Frutt, 1940 m</td>\n",
       "      <td>170 cm</td>\n",
       "    </tr>\n",
       "    <tr>\n",
       "      <th>3</th>\n",
       "      <td>Maloja/Maloggia, 1799 m</td>\n",
       "      <td>132 cm</td>\n",
       "    </tr>\n",
       "    <tr>\n",
       "      <th>4</th>\n",
       "      <td>Les Attelas, 2733 m</td>\n",
       "      <td>131 cm</td>\n",
       "    </tr>\n",
       "    <tr>\n",
       "      <th>...</th>\n",
       "      <td>...</td>\n",
       "      <td>...</td>\n",
       "    </tr>\n",
       "    <tr>\n",
       "      <th>109</th>\n",
       "      <td>Wassen, 920 m</td>\n",
       "      <td>0 cm</td>\n",
       "    </tr>\n",
       "    <tr>\n",
       "      <th>110</th>\n",
       "      <td>Wasserauen, 868 m</td>\n",
       "      <td>0 cm</td>\n",
       "    </tr>\n",
       "    <tr>\n",
       "      <th>111</th>\n",
       "      <td>Zollikofen, 553 m</td>\n",
       "      <td>0 cm</td>\n",
       "    </tr>\n",
       "    <tr>\n",
       "      <th>112</th>\n",
       "      <td>Zürich-Affoltern, 443 m</td>\n",
       "      <td>0 cm</td>\n",
       "    </tr>\n",
       "    <tr>\n",
       "      <th>113</th>\n",
       "      <td>Zürich-Flughafen, 432 m</td>\n",
       "      <td>0 cm</td>\n",
       "    </tr>\n",
       "  </tbody>\n",
       "</table>\n",
       "<p>114 rows × 2 columns</p>\n",
       "</div>"
      ],
      "text/plain": [
       "                    location snowlevel\n",
       "0     Grimsel-Hospiz, 1980 m    238 cm\n",
       "1           Glattalp, 1858 m    215 cm\n",
       "2     Melchsee-Frutt, 1940 m    170 cm\n",
       "3    Maloja/Maloggia, 1799 m    132 cm\n",
       "4        Les Attelas, 2733 m    131 cm\n",
       "..                       ...       ...\n",
       "109            Wassen, 920 m      0 cm\n",
       "110        Wasserauen, 868 m      0 cm\n",
       "111        Zollikofen, 553 m      0 cm\n",
       "112  Zürich-Affoltern, 443 m      0 cm\n",
       "113  Zürich-Flughafen, 432 m      0 cm\n",
       "\n",
       "[114 rows x 2 columns]"
      ]
     },
     "execution_count": 6,
     "metadata": {},
     "output_type": "execute_result"
    }
   ],
   "source": [
    "### get location\n",
    "location_item = hitlist[0].findAll('a')\n",
    "location.append([info.get_text().strip() for info in location_item])\n",
    "loc = location[0]\n",
    "#len(loc)\n",
    "#loc\n",
    "\n",
    "### get snowlevel\n",
    "snowlevel_item = hitlist[0].findAll('td', {'class': 'value'}) \n",
    "snowlevel.append([info.get_text().strip() for info in snowlevel_item])\n",
    "#len(snowlevel)\n",
    "snow = snowlevel[0]\n",
    "#len(snow)\n",
    "#snow\n",
    "\n",
    "### combine into DF\n",
    "heights_df = pd.DataFrame({'location': loc,'snowlevel': snow})\n",
    "heights_df"
   ]
  },
  {
   "cell_type": "markdown",
   "metadata": {},
   "source": [
    "## 4 Data Manipulation"
   ]
  },
  {
   "cell_type": "code",
   "execution_count": 7,
   "metadata": {},
   "outputs": [
    {
     "data": {
      "text/html": [
       "<div>\n",
       "<style scoped>\n",
       "    .dataframe tbody tr th:only-of-type {\n",
       "        vertical-align: middle;\n",
       "    }\n",
       "\n",
       "    .dataframe tbody tr th {\n",
       "        vertical-align: top;\n",
       "    }\n",
       "\n",
       "    .dataframe thead th {\n",
       "        text-align: right;\n",
       "    }\n",
       "</style>\n",
       "<table border=\"1\" class=\"dataframe\">\n",
       "  <thead>\n",
       "    <tr style=\"text-align: right;\">\n",
       "      <th></th>\n",
       "      <th>location</th>\n",
       "      <th>height_in_m</th>\n",
       "      <th>snowlevel_in_cm</th>\n",
       "    </tr>\n",
       "  </thead>\n",
       "  <tbody>\n",
       "    <tr>\n",
       "      <th>0</th>\n",
       "      <td>Grimsel-Hospiz</td>\n",
       "      <td>1980</td>\n",
       "      <td>238</td>\n",
       "    </tr>\n",
       "    <tr>\n",
       "      <th>1</th>\n",
       "      <td>Glattalp</td>\n",
       "      <td>1858</td>\n",
       "      <td>215</td>\n",
       "    </tr>\n",
       "    <tr>\n",
       "      <th>2</th>\n",
       "      <td>Melchsee-Frutt</td>\n",
       "      <td>1940</td>\n",
       "      <td>170</td>\n",
       "    </tr>\n",
       "    <tr>\n",
       "      <th>3</th>\n",
       "      <td>Maloja/Maloggia</td>\n",
       "      <td>1799</td>\n",
       "      <td>132</td>\n",
       "    </tr>\n",
       "    <tr>\n",
       "      <th>4</th>\n",
       "      <td>Les Attelas</td>\n",
       "      <td>2733</td>\n",
       "      <td>131</td>\n",
       "    </tr>\n",
       "    <tr>\n",
       "      <th>...</th>\n",
       "      <td>...</td>\n",
       "      <td>...</td>\n",
       "      <td>...</td>\n",
       "    </tr>\n",
       "    <tr>\n",
       "      <th>109</th>\n",
       "      <td>Wassen</td>\n",
       "      <td>920</td>\n",
       "      <td>0</td>\n",
       "    </tr>\n",
       "    <tr>\n",
       "      <th>110</th>\n",
       "      <td>Wasserauen</td>\n",
       "      <td>868</td>\n",
       "      <td>0</td>\n",
       "    </tr>\n",
       "    <tr>\n",
       "      <th>111</th>\n",
       "      <td>Zollikofen</td>\n",
       "      <td>553</td>\n",
       "      <td>0</td>\n",
       "    </tr>\n",
       "    <tr>\n",
       "      <th>112</th>\n",
       "      <td>Zürich-Affoltern</td>\n",
       "      <td>443</td>\n",
       "      <td>0</td>\n",
       "    </tr>\n",
       "    <tr>\n",
       "      <th>113</th>\n",
       "      <td>Zürich-Flughafen</td>\n",
       "      <td>432</td>\n",
       "      <td>0</td>\n",
       "    </tr>\n",
       "  </tbody>\n",
       "</table>\n",
       "<p>114 rows × 3 columns</p>\n",
       "</div>"
      ],
      "text/plain": [
       "             location height_in_m  snowlevel_in_cm\n",
       "0      Grimsel-Hospiz        1980              238\n",
       "1            Glattalp        1858              215\n",
       "2      Melchsee-Frutt        1940              170\n",
       "3     Maloja/Maloggia        1799              132\n",
       "4         Les Attelas        2733              131\n",
       "..                ...         ...              ...\n",
       "109            Wassen         920                0\n",
       "110        Wasserauen         868                0\n",
       "111        Zollikofen         553                0\n",
       "112  Zürich-Affoltern         443                0\n",
       "113  Zürich-Flughafen         432                0\n",
       "\n",
       "[114 rows x 3 columns]"
      ]
     },
     "execution_count": 7,
     "metadata": {},
     "output_type": "execute_result"
    }
   ],
   "source": [
    "##remove cm, convert to 'int'\n",
    "heights_df['snowlevel_in_cm']=pd.Series(heights_df['snowlevel']).str.replace(\" cm\", '')\n",
    "heights_df['snowlevel_in_cm']=pd.Series(heights_df['snowlevel_in_cm']).astype(int)\n",
    "#type(heights_df['snowlevel_in_cm'][0])\n",
    "#heights_df\n",
    "\n",
    "## split location into 'village' and 'elevation of village' and merge with previous DF\n",
    "split_loc = pd.Series(heights_df['location']).str.split(',',n=2,expand = True)\n",
    "merged_df = pd.merge(heights_df, split_loc, left_index=True, right_index=True)\n",
    "#merged_df\n",
    "\n",
    "## drop unused columns, rename final columns, remove unit, sort columns\n",
    "intermediate_df = merged_df.iloc[:,[2,3,4]].copy()\n",
    "intermediate_df.columns = ['snowlevel_in_cm', 'location', 'height_in_m']\n",
    "intermediate_df['height_in_m']=pd.Series(intermediate_df['height_in_m']).str.replace(\" m\", '')\n",
    "final_df = pd.DataFrame(intermediate_df, columns = ['location', 'height_in_m', 'snowlevel_in_cm'])\n",
    "final_df"
   ]
  },
  {
   "cell_type": "code",
   "execution_count": 8,
   "metadata": {},
   "outputs": [],
   "source": [
    "### Export into csv\n",
    "\n",
    "# change the file_path to your path\n",
    "file_path = '/Users/sd/Documents/0-Coding/3-Propulsion/GitHub_Projects/1_Webscraping_Bergfex/snow_level.csv'\n",
    "final_df.to_csv(file_path, index = False)"
   ]
  },
  {
   "cell_type": "markdown",
   "metadata": {},
   "source": [
    "## Continue in notebook part III"
   ]
  }
 ],
 "metadata": {
  "kernelspec": {
   "display_name": "Python 3",
   "language": "python",
   "name": "python3"
  },
  "language_info": {
   "codemirror_mode": {
    "name": "ipython",
    "version": 3
   },
   "file_extension": ".py",
   "mimetype": "text/x-python",
   "name": "python",
   "nbconvert_exporter": "python",
   "pygments_lexer": "ipython3",
   "version": "3.8.3"
  }
 },
 "nbformat": 4,
 "nbformat_minor": 4
}
