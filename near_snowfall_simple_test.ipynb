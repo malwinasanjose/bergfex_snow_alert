{
 "cells": [
  {
   "cell_type": "code",
   "execution_count": 8,
   "metadata": {},
   "outputs": [],
   "source": [
    "import pandas as pd\n",
    "#import geopandas as gpd\n",
    "import shapely\n",
    "from shapely.geometry import Point, MultiPoint\n",
    "#import fiona\n",
    "#from pykml import parser\n",
    "from shapely.ops import nearest_points"
   ]
  },
  {
   "cell_type": "code",
   "execution_count": 27,
   "metadata": {},
   "outputs": [],
   "source": [
    "path = 'C:/Users/Malwina/Desktop/Data_Science/Bootcamp/Visualization/Bergfex_project_cont/coordinates.csv'\n",
    "snow = pd.read_csv(path, delimiter = ';', decimal=',')\n",
    "snow = snow.dropna().reset_index()\n",
    "# EPSG:4326/WGS84\n",
    "\n",
    "path = 'C:/Users/Malwina/Desktop/Data_Science/Bootcamp/Visualization/Bergfex_project_cont/swiss_cities.csv'\n",
    "points = pd.read_csv(path)"
   ]
  },
  {
   "cell_type": "code",
   "execution_count": 28,
   "metadata": {},
   "outputs": [
    {
     "data": {
      "text/html": [
       "<div>\n",
       "<style scoped>\n",
       "    .dataframe tbody tr th:only-of-type {\n",
       "        vertical-align: middle;\n",
       "    }\n",
       "\n",
       "    .dataframe tbody tr th {\n",
       "        vertical-align: top;\n",
       "    }\n",
       "\n",
       "    .dataframe thead th {\n",
       "        text-align: right;\n",
       "    }\n",
       "</style>\n",
       "<table border=\"1\" class=\"dataframe\">\n",
       "  <thead>\n",
       "    <tr style=\"text-align: right;\">\n",
       "      <th></th>\n",
       "      <th>index</th>\n",
       "      <th>location</th>\n",
       "      <th>height_in_m</th>\n",
       "      <th>snowlevel_in_cm</th>\n",
       "      <th>lat</th>\n",
       "      <th>lng</th>\n",
       "    </tr>\n",
       "  </thead>\n",
       "  <tbody>\n",
       "    <tr>\n",
       "      <th>0</th>\n",
       "      <td>2</td>\n",
       "      <td>Aigle</td>\n",
       "      <td>381</td>\n",
       "      <td>0</td>\n",
       "      <td>46.319025</td>\n",
       "      <td>6.970566</td>\n",
       "    </tr>\n",
       "    <tr>\n",
       "      <th>1</th>\n",
       "      <td>3</td>\n",
       "      <td>Altdorf</td>\n",
       "      <td>449</td>\n",
       "      <td>0</td>\n",
       "      <td>46.880600</td>\n",
       "      <td>8.639400</td>\n",
       "    </tr>\n",
       "    <tr>\n",
       "      <th>2</th>\n",
       "      <td>4</td>\n",
       "      <td>Andermatt</td>\n",
       "      <td>2282</td>\n",
       "      <td>0</td>\n",
       "      <td>46.602389</td>\n",
       "      <td>8.611800</td>\n",
       "    </tr>\n",
       "    <tr>\n",
       "      <th>3</th>\n",
       "      <td>5</td>\n",
       "      <td>Appenzell</td>\n",
       "      <td>780</td>\n",
       "      <td>0</td>\n",
       "      <td>47.333300</td>\n",
       "      <td>9.416700</td>\n",
       "    </tr>\n",
       "    <tr>\n",
       "      <th>4</th>\n",
       "      <td>6</td>\n",
       "      <td>Beatenberg</td>\n",
       "      <td>1182</td>\n",
       "      <td>0</td>\n",
       "      <td>46.703541</td>\n",
       "      <td>7.809551</td>\n",
       "    </tr>\n",
       "  </tbody>\n",
       "</table>\n",
       "</div>"
      ],
      "text/plain": [
       "   index    location  height_in_m  snowlevel_in_cm        lat       lng\n",
       "0      2       Aigle          381                0  46.319025  6.970566\n",
       "1      3     Altdorf          449                0  46.880600  8.639400\n",
       "2      4   Andermatt         2282                0  46.602389  8.611800\n",
       "3      5   Appenzell          780                0  47.333300  9.416700\n",
       "4      6  Beatenberg         1182                0  46.703541  7.809551"
      ]
     },
     "execution_count": 28,
     "metadata": {},
     "output_type": "execute_result"
    }
   ],
   "source": [
    "snow.head()"
   ]
  },
  {
   "cell_type": "code",
   "execution_count": 23,
   "metadata": {},
   "outputs": [
    {
     "name": "stdout",
     "output_type": "stream",
     "text": [
      "<class 'pandas.core.frame.DataFrame'>\n",
      "Int64Index: 48 entries, 2 to 76\n",
      "Data columns (total 5 columns):\n",
      " #   Column           Non-Null Count  Dtype  \n",
      "---  ------           --------------  -----  \n",
      " 0   location         48 non-null     object \n",
      " 1   height_in_m      48 non-null     int64  \n",
      " 2   snowlevel_in_cm  48 non-null     int64  \n",
      " 3   lat              48 non-null     float64\n",
      " 4   lng              48 non-null     float64\n",
      "dtypes: float64(2), int64(2), object(1)\n",
      "memory usage: 2.2+ KB\n"
     ]
    }
   ],
   "source": [
    "snow.info()"
   ]
  },
  {
   "cell_type": "code",
   "execution_count": 4,
   "metadata": {},
   "outputs": [
    {
     "data": {
      "text/html": [
       "<div>\n",
       "<style scoped>\n",
       "    .dataframe tbody tr th:only-of-type {\n",
       "        vertical-align: middle;\n",
       "    }\n",
       "\n",
       "    .dataframe tbody tr th {\n",
       "        vertical-align: top;\n",
       "    }\n",
       "\n",
       "    .dataframe thead th {\n",
       "        text-align: right;\n",
       "    }\n",
       "</style>\n",
       "<table border=\"1\" class=\"dataframe\">\n",
       "  <thead>\n",
       "    <tr style=\"text-align: right;\">\n",
       "      <th></th>\n",
       "      <th>Unnamed: 0</th>\n",
       "      <th>city</th>\n",
       "      <th>lat</th>\n",
       "      <th>lng</th>\n",
       "    </tr>\n",
       "  </thead>\n",
       "  <tbody>\n",
       "    <tr>\n",
       "      <th>0</th>\n",
       "      <td>0</td>\n",
       "      <td>Zürich</td>\n",
       "      <td>47.3786</td>\n",
       "      <td>8.5400</td>\n",
       "    </tr>\n",
       "    <tr>\n",
       "      <th>1</th>\n",
       "      <td>1</td>\n",
       "      <td>Geneva</td>\n",
       "      <td>46.2000</td>\n",
       "      <td>6.1500</td>\n",
       "    </tr>\n",
       "    <tr>\n",
       "      <th>2</th>\n",
       "      <td>2</td>\n",
       "      <td>Basel</td>\n",
       "      <td>47.5606</td>\n",
       "      <td>7.5906</td>\n",
       "    </tr>\n",
       "    <tr>\n",
       "      <th>3</th>\n",
       "      <td>3</td>\n",
       "      <td>Lausanne</td>\n",
       "      <td>46.5333</td>\n",
       "      <td>6.6333</td>\n",
       "    </tr>\n",
       "    <tr>\n",
       "      <th>4</th>\n",
       "      <td>4</td>\n",
       "      <td>Bern</td>\n",
       "      <td>46.9480</td>\n",
       "      <td>7.4474</td>\n",
       "    </tr>\n",
       "    <tr>\n",
       "      <th>5</th>\n",
       "      <td>5</td>\n",
       "      <td>Winterthur</td>\n",
       "      <td>47.4992</td>\n",
       "      <td>8.7267</td>\n",
       "    </tr>\n",
       "    <tr>\n",
       "      <th>6</th>\n",
       "      <td>6</td>\n",
       "      <td>Lucerne</td>\n",
       "      <td>47.0523</td>\n",
       "      <td>8.3059</td>\n",
       "    </tr>\n",
       "    <tr>\n",
       "      <th>7</th>\n",
       "      <td>7</td>\n",
       "      <td>Sankt Gallen</td>\n",
       "      <td>47.4233</td>\n",
       "      <td>9.3772</td>\n",
       "    </tr>\n",
       "    <tr>\n",
       "      <th>8</th>\n",
       "      <td>8</td>\n",
       "      <td>Lugano</td>\n",
       "      <td>46.0103</td>\n",
       "      <td>8.9625</td>\n",
       "    </tr>\n",
       "    <tr>\n",
       "      <th>9</th>\n",
       "      <td>9</td>\n",
       "      <td>Biel/Bienne</td>\n",
       "      <td>47.1372</td>\n",
       "      <td>7.2472</td>\n",
       "    </tr>\n",
       "  </tbody>\n",
       "</table>\n",
       "</div>"
      ],
      "text/plain": [
       "   Unnamed: 0          city      lat     lng\n",
       "0           0        Zürich  47.3786  8.5400\n",
       "1           1        Geneva  46.2000  6.1500\n",
       "2           2         Basel  47.5606  7.5906\n",
       "3           3      Lausanne  46.5333  6.6333\n",
       "4           4          Bern  46.9480  7.4474\n",
       "5           5    Winterthur  47.4992  8.7267\n",
       "6           6       Lucerne  47.0523  8.3059\n",
       "7           7  Sankt Gallen  47.4233  9.3772\n",
       "8           8        Lugano  46.0103  8.9625\n",
       "9           9   Biel/Bienne  47.1372  7.2472"
      ]
     },
     "execution_count": 4,
     "metadata": {},
     "output_type": "execute_result"
    }
   ],
   "source": [
    "# we want to calculate the closest point in that df to another gps point\n",
    "test_points = points.iloc[0:10, 0:4] # selecting a test set for the calculation\n",
    "test_points"
   ]
  },
  {
   "cell_type": "code",
   "execution_count": 31,
   "metadata": {},
   "outputs": [
    {
     "data": {
      "text/plain": [
       "46.8806"
      ]
     },
     "execution_count": 31,
     "metadata": {},
     "output_type": "execute_result"
    }
   ],
   "source": []
  },
  {
   "cell_type": "code",
   "execution_count": 38,
   "metadata": {},
   "outputs": [],
   "source": [
    "# making a single multipoint object out of all the snow points (3 to test)\n",
    "#making Points out of the snow points\n",
    "point_Aigle = Point(46.319, 6.9705)\n",
    "point_Andermatt = Point(46.602, 8.6118)\n",
    "point_Appenzell = Point(47.333, 9.4167)\n",
    "\n",
    "\n",
    "test_snow_grid = MultiPoint([point_Aigle, point_Andermatt, point_Appenzell])"
   ]
  },
  {
   "cell_type": "code",
   "execution_count": 7,
   "metadata": {},
   "outputs": [],
   "source": [
    "# defining a test point to be compared to the snow grid\n",
    "\n",
    "bern_point = Point(46.948, 7.4474)"
   ]
  },
  {
   "cell_type": "code",
   "execution_count": 9,
   "metadata": {},
   "outputs": [],
   "source": [
    "# finding which snow point is nearest to the test point \n",
    "nearest = nearest_points(bern_point, snow_grid)\n",
    "near_idx1 = nearest[1] # actual nearest point"
   ]
  },
  {
   "cell_type": "code",
   "execution_count": 10,
   "metadata": {},
   "outputs": [
    {
     "name": "stdout",
     "output_type": "stream",
     "text": [
      "POINT (46.319 6.9705)\n"
     ]
    }
   ],
   "source": [
    "print(near_idx1)"
   ]
  },
  {
   "cell_type": "code",
   "execution_count": null,
   "metadata": {},
   "outputs": [],
   "source": [
    "# matching the nearest point with its name\n",
    "\n"
   ]
  },
  {
   "cell_type": "code",
   "execution_count": 40,
   "metadata": {},
   "outputs": [],
   "source": [
    "# creating a grid out of all the snow points in the df snow\n",
    "snow_point_list= []\n",
    "\n",
    "for index, row in snow.iterrows():\n",
    "    point = Point(row['lat'], row['lng'])\n",
    "    snow_point_list.append(point)\n",
    "    \n",
    "len(snow_point_list) # 48 locations \n",
    "\n",
    "snow_grid = MultiPoint(snow_point_list)"
   ]
  },
  {
   "cell_type": "code",
   "execution_count": 39,
   "metadata": {},
   "outputs": [
    {
     "data": {
      "text/plain": [
       "[<shapely.geometry.point.Point at 0x220b4f2d670>,\n",
       " <shapely.geometry.point.Point at 0x220b4f2d940>,\n",
       " <shapely.geometry.point.Point at 0x220b2c86190>,\n",
       " <shapely.geometry.point.Point at 0x220b4f48fa0>,\n",
       " <shapely.geometry.point.Point at 0x220b2c863a0>,\n",
       " <shapely.geometry.point.Point at 0x220b4ebbf10>,\n",
       " <shapely.geometry.point.Point at 0x220b4f48df0>,\n",
       " <shapely.geometry.point.Point at 0x220b4f48f70>,\n",
       " <shapely.geometry.point.Point at 0x220b4f489d0>,\n",
       " <shapely.geometry.point.Point at 0x220b4f48880>,\n",
       " <shapely.geometry.point.Point at 0x220b4f48f10>,\n",
       " <shapely.geometry.point.Point at 0x220b4f48a90>,\n",
       " <shapely.geometry.point.Point at 0x220b4ec9220>,\n",
       " <shapely.geometry.point.Point at 0x220b2c81cd0>,\n",
       " <shapely.geometry.point.Point at 0x220b5028fa0>,\n",
       " <shapely.geometry.point.Point at 0x220b5028eb0>,\n",
       " <shapely.geometry.point.Point at 0x220b5028bb0>,\n",
       " <shapely.geometry.point.Point at 0x220b50280a0>,\n",
       " <shapely.geometry.point.Point at 0x220b5028be0>,\n",
       " <shapely.geometry.point.Point at 0x220b50282e0>,\n",
       " <shapely.geometry.point.Point at 0x220b5028fd0>,\n",
       " <shapely.geometry.point.Point at 0x220b5028ac0>,\n",
       " <shapely.geometry.point.Point at 0x220b5028670>,\n",
       " <shapely.geometry.point.Point at 0x220b50288b0>,\n",
       " <shapely.geometry.point.Point at 0x220b51c7c10>,\n",
       " <shapely.geometry.point.Point at 0x220b51c74c0>,\n",
       " <shapely.geometry.point.Point at 0x220b51c70a0>,\n",
       " <shapely.geometry.point.Point at 0x220b51c7130>,\n",
       " <shapely.geometry.point.Point at 0x220b51c7f40>,\n",
       " <shapely.geometry.point.Point at 0x220b51c7e50>,\n",
       " <shapely.geometry.point.Point at 0x220b51c7eb0>,\n",
       " <shapely.geometry.point.Point at 0x220b51c7fa0>,\n",
       " <shapely.geometry.point.Point at 0x220b51c7d90>,\n",
       " <shapely.geometry.point.Point at 0x220b51c7f70>,\n",
       " <shapely.geometry.point.Point at 0x220b51c7f10>,\n",
       " <shapely.geometry.point.Point at 0x220b51c7af0>,\n",
       " <shapely.geometry.point.Point at 0x220b51c7910>,\n",
       " <shapely.geometry.point.Point at 0x220b51c7ac0>,\n",
       " <shapely.geometry.point.Point at 0x220b51c7a60>,\n",
       " <shapely.geometry.point.Point at 0x220b51c7a00>,\n",
       " <shapely.geometry.point.Point at 0x220b51c7c70>,\n",
       " <shapely.geometry.point.Point at 0x220b51c7940>,\n",
       " <shapely.geometry.point.Point at 0x220b51c78e0>,\n",
       " <shapely.geometry.point.Point at 0x220b51c7880>,\n",
       " <shapely.geometry.point.Point at 0x220b51c77f0>,\n",
       " <shapely.geometry.point.Point at 0x220b51c7d60>,\n",
       " <shapely.geometry.point.Point at 0x220b51c7610>,\n",
       " <shapely.geometry.point.Point at 0x220b51c7730>]"
      ]
     },
     "execution_count": 39,
     "metadata": {},
     "output_type": "execute_result"
    }
   ],
   "source": []
  },
  {
   "cell_type": "code",
   "execution_count": null,
   "metadata": {},
   "outputs": [],
   "source": []
  }
 ],
 "metadata": {
  "kernelspec": {
   "display_name": "Python 3",
   "language": "python",
   "name": "python3"
  },
  "language_info": {
   "codemirror_mode": {
    "name": "ipython",
    "version": 3
   },
   "file_extension": ".py",
   "mimetype": "text/x-python",
   "name": "python",
   "nbconvert_exporter": "python",
   "pygments_lexer": "ipython3",
   "version": "3.8.3"
  }
 },
 "nbformat": 4,
 "nbformat_minor": 4
}
